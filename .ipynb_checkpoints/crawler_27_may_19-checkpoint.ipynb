{
 "cells": [
  {
   "cell_type": "markdown",
   "metadata": {},
   "source": [
    "## aqui tenho que ver o arquivo original"
   ]
  },
  {
   "cell_type": "code",
   "execution_count": 1,
   "metadata": {},
   "outputs": [],
   "source": [
    "from bs4 import BeautifulSoup\n",
    "from urllib.parse import urljoin\n",
    "from urllib.parse import urlparse\n",
    "from urllib.request import urlopen\n",
    "from urllib.request import urlretrieve\n",
    "import os\n",
    "import pandas\n",
    "import requests\n",
    "import urllib"
   ]
  },
  {
   "cell_type": "code",
   "execution_count": 2,
   "metadata": {},
   "outputs": [
    {
     "name": "stdout",
     "output_type": "stream",
     "text": [
      "<class 'str'>\n",
      "<class 'NoneType'>\n",
      "<class 'NoneType'>\n",
      "<class 'set'>\n",
      "Toalha de Banho - Cama, Mesa e Banho | Magazine Luiza\n",
      "None\n",
      "None\n"
     ]
    }
   ],
   "source": [
    "# Python - Web crawler https://www.youtube.com/watch?v=tuI_Z6VolbE\n",
    "def extract_title(content):\n",
    "  soup = BeautifulSoup(content, 'lxml')\n",
    "  tag = soup.find('title', text=True)\n",
    "  if not tag:\n",
    "    return None\n",
    "  return tag.string.strip()\n",
    "\n",
    "def price_from(content):\n",
    "  soup = BeautifulSoup(content, 'lxml')\n",
    "  tag = soup.select_one('.price-template__from')\n",
    "  if not tag:\n",
    "    return None\n",
    "  return tag.string.strip()\n",
    "\n",
    "def price_to(content):\n",
    "  soup = BeautifulSoup(content, 'lxml')\n",
    "  tag = soup.select_one('.price-template__text')\n",
    "  if not tag:\n",
    "    return None\n",
    "  return tag.string.strip()\n",
    "\n",
    "def extract_links(content):\n",
    "  soup = BeautifulSoup(content, 'lxml')\n",
    "  links = set()\n",
    "  for tag in soup.find_all('a', href=True):\n",
    "    if tag['href'].startswith('https://www.magazineluiza.com.br/'):\n",
    "      links.add(tag['href'])\n",
    "  return links\n",
    "\n",
    "page = requests.get(\"https://www.magazineluiza.com.br/jogo-de-toalha-santista-royal-knut-4-pecas-100-algodao-turquesa/p/217441300/cm/ctab/\")\n",
    "\n",
    "print(type(extract_title(page.text)))\n",
    "print(type(price_from(page.text)))\n",
    "print(type(price_to(page.text)))\n",
    "print(type(extract_links(page.text)))\n",
    "\n",
    "print(extract_title(page.text))\n",
    "print(price_from(page.text))\n",
    "print(price_to(page.text))\n",
    "# print(extract_links(page.text))\n",
    "\n",
    "import csv\n",
    "\n",
    "row = [extract_title(page.text), price_from(page.text), price_to(page.text), extract_links(page.text)]\n",
    "\n",
    "with open('people1.csv', 'a') as csvFile:\n",
    "    writer = csv.writer(csvFile)\n",
    "    writer.writerow(row)\n",
    "\n",
    "csvFile.close()"
   ]
  },
  {
   "cell_type": "code",
   "execution_count": null,
   "metadata": {},
   "outputs": [],
   "source": []
  },
  {
   "cell_type": "markdown",
   "metadata": {},
   "source": [
    "## aqui lista todos os links da classe imagem"
   ]
  },
  {
   "cell_type": "code",
   "execution_count": 3,
   "metadata": {},
   "outputs": [
    {
     "name": "stdout",
     "output_type": "stream",
     "text": [
      "['//d25zlb44gqlazw.cloudfront.net/static/img/default/white1x1-e0a7e4ed.gif', 'https://s3-sa-east-1.amazonaws.com/explorer-ml-site/_next/images/review-5.svg', 'https://s3-sa-east-1.amazonaws.com/explorer-ml-site/_next/images/review-4.svg', 'https://s3-sa-east-1.amazonaws.com/explorer-ml-site/_next/images/review-3.svg', 'https://s3-sa-east-1.amazonaws.com/explorer-ml-site/_next/images/review-2.svg', 'https://s3-sa-east-1.amazonaws.com/explorer-ml-site/_next/images/review-1.svg', 'https://a-static.mlcdn.com.br/210x210/jogo-de-toalha-4-pecas-santista-royal-knut-100-algodao/magazineluiza/213990500/8b500d177a947beff881e7cd4f48d6e4.jpg', 'https://a-static.mlcdn.com.br/210x210/jogo-de-toalha-4-pecas-santista-royal-knut-100-algodao/magazineluiza/213990700/4ae5c37dd011e752e679179ae8cff00c.jpg', 'https://a-static.mlcdn.com.br/210x210/jogo-de-toalha-de-banho-sisa-raissa-azul-3-pecas/magazineluiza/221249600/4895ada0c63a6ab53e299542eaeaf662.jpg', 'https://a-static.mlcdn.com.br/210x210/jogo-de-toalha-de-banho-sisa-raissa-vermelho-3-pecas/magazineluiza/221249500/391613bb025f5fcfb3e353f788148b9f.jpg', 'https://a-static.mlcdn.com.br/210x210/jogo-de-toalha-de-banho-santista-royal-royantj2jknu1028-100-algodao-amarela-2-pecas/magazineluiza/221619600/4985313928768c31fffab3b6dc3e5ed6.jpg', 'https://a-static.mlcdn.com.br/210x210/jogo-de-toalha-de-banho-sisa-banhao-bari-vermelho-2-pecas/magazineluiza/221251800/542f3dcbf67e20b008d6ad4d4303783c.jpg', 'https://a-static.mlcdn.com.br/210x210/toalha-de-banho-infantil-pj-masks-trio-felpuda-lepper/magazinepagmenos/1763/4a92c4974929597ae4bd789e5b1ab990.jpg', 'https://a-static.mlcdn.com.br/210x210/toalha-de-banho-diana-linha-prata-santista/fatimalhas/9175/de443a4eaaa5ed828b4dc34e13ac166c.jpg', 'https://a-static.mlcdn.com.br/210x210/toalha-de-banho-100-algodao-royal-patter-santista/casadasogra/08-29-08azul/711c4aafce490d8dac21681581952494.jpg', 'https://a-static.mlcdn.com.br/210x210/toalha-corinthians-banho-065x130cm/mpmshop/3328809283/57fb31d0d01db05dc61abd79332936af.jpg', 'https://a-static.mlcdn.com.br/210x210/jogo-de-toalha-de-banho-sisa-banhao-bari-cinza-2-pecas/magazineluiza/221251700/b0c9dbd5ff44a37b18c5878125d0eabd.jpg', 'https://a-static.mlcdn.com.br/210x210/toalha-de-banho-diana-linha-prata-santista/fatimalhas/9174/de443a4eaaa5ed828b4dc34e13ac166c.jpg', 'https://a-static.mlcdn.com.br/210x210/toalha-de-banho-valentine-camesa/admirare/7575/59c8216d0db2691faad9cc3634b356dc.jpg', 'https://a-static.mlcdn.com.br/210x210/jogo-de-toalha-de-banho-sisa-banhao-bari-branco-2-pecas/magazineluiza/221251600/fb9fb1de2399851a88077b141b253947.jpg', 'https://a-static.mlcdn.com.br/210x210/jogo-de-toalha-de-banho-agata-3-pecas-estampado-lepper/casawin/6256/e3c9a733986355d18a0f3e00a17fa734.jpg', 'https://a-static.mlcdn.com.br/210x210/jogo-de-toalhas-de-banho-maia-felpuda-jacquard-4-pecas-verde-lepper/casawin/9108/4dceac6b98b1e8c34bffead93892ba2b.jpg', 'https://a-static.mlcdn.com.br/210x210/toalha-de-banho-viva-01-peca-100-algodao-valle/casamax/5819/e7ac82907e4c33d7291b282ede3290dc.jpg', 'https://a-static.mlcdn.com.br/210x210/toalha-de-banho-calera-100-algodao-karsten/emporiodolencol/400/f7f6c30409585931e80c6d2591781a41.jpg', 'https://a-static.mlcdn.com.br/210x210/toalha-de-banho-lumina-karsten/emporiodolencol/2889/af7a9b7b436e277c77ac451d0c0666af.jpg', 'https://a-static.mlcdn.com.br/210x210/toalha-de-banho-c-fralda-cremer-menino-c-1/ruthfraldas/89331/8a4b5464efcb3c7fce6866438684f2c9.jpg', 'https://a-static.mlcdn.com.br/210x210/toalha-de-banho-analu-karsten/casa3irmaos1/5585/09dbb51e7fb55693ec92e7f525cfbb85.jpg', 'https://a-static.mlcdn.com.br/210x210/toalha-de-banho-dalia-karsten/casa3irmaos1/5603/e8793589c7abe683f72995db105677ad.jpg', 'https://a-static.mlcdn.com.br/210x210/kit-toalha-de-banho-luna-cinza-4-un-bene-casa/lojaestiloeconforto/365/3c833dd232b671c0734d55aaf48f7fad.jpg', 'https://a-static.mlcdn.com.br/210x210/jogo-de-toalha-felpuda-de-banho-unique-3-pecas-azul-lepper/casawin/6285/5f76e94302e9495ca31778186098bd80.jpg', 'https://a-static.mlcdn.com.br/210x210/toalha-de-banho-athenas-cachemere-camesa/decorvida/3786/fcafa0df39cab67d6150a59b5b5fc51b.jpg', 'https://a-static.mlcdn.com.br/210x210/jogo-de-toalha-de-banho-hermes-4-pecas-felpuda-jacquard-marrom-lepper/casawin/9112/0fc9cc66c0846c96ee06b674f38a1c8f.jpg', 'https://a-static.mlcdn.com.br/210x210/jogo-de-toalha-felpuda-de-banho-perola-3-pecas-rosa-lepper/casawin/6270/4b6141cbac355c1818140dd0252e2d28.jpg', 'https://a-static.mlcdn.com.br/210x210/toalha-de-banho-viva-01-peca-100-algodao-valle/casamax/5825/3af6c2ca0c192c6fdcbfab9de9d7c316.jpg', 'https://selo.clearsale.com.br/Imagem/2bda1f38-808d-4e93-83dd-6ad2c31609cf']\n"
     ]
    }
   ],
   "source": [
    "url = \"https://www.magazineluiza.com.br/jogo-de-toalha-santista-royal-knut-4-pecas-100-algodao-turquesa/p/217441300/cm/ctab/\"\n",
    "html = urlopen(url)\n",
    "soup = BeautifulSoup(html, \"lxml\")\n",
    "\n",
    "# imgs = soup.findAll(\"div\", {\"class\":\"showcase-product\"})\n",
    "images = []\n",
    "for img in soup.findAll('img'):\n",
    "    images.append(img.get('src'))\n",
    "print(images)"
   ]
  },
  {
   "cell_type": "markdown",
   "metadata": {},
   "source": [
    "## isso não é do meu codigo mas é legal de saber o source das imagens do wikipedia"
   ]
  },
  {
   "cell_type": "code",
   "execution_count": 4,
   "metadata": {},
   "outputs": [
    {
     "name": "stdout",
     "output_type": "stream",
     "text": [
      "//upload.wikimedia.org/wikipedia/commons/thumb/4/47/Sound-icon.svg/20px-Sound-icon.svg.png\n",
      "//upload.wikimedia.org/wikipedia/commons/thumb/9/98/Transhumanism_h%2B_2.svg/120px-Transhumanism_h%2B_2.svg.png\n",
      "//upload.wikimedia.org/wikipedia/commons/thumb/6/69/Hux-Oxon-72.jpg/220px-Hux-Oxon-72.jpg\n",
      "//upload.wikimedia.org/wikipedia/commons/thumb/7/71/PPTCountdowntoSingularityLog.jpg/300px-PPTCountdowntoSingularityLog.jpg\n",
      "//upload.wikimedia.org/wikipedia/commons/thumb/a/a8/Happyman.svg/20px-Happyman.svg.png\n",
      "//upload.wikimedia.org/wikipedia/commons/thumb/8/83/Amish_vs_modern_transportation.jpg/220px-Amish_vs_modern_transportation.jpg\n",
      "//upload.wikimedia.org/wikipedia/commons/thumb/3/3b/Text_document_with_page_number_icon.svg/40px-Text_document_with_page_number_icon.svg.png\n",
      "//upload.wikimedia.org/wikipedia/en/thumb/4/4a/Commons-logo.svg/30px-Commons-logo.svg.png\n",
      "//upload.wikimedia.org/wikipedia/commons/thumb/4/47/Sound-icon.svg/45px-Sound-icon.svg.png\n",
      "//upload.wikimedia.org/wikipedia/en/thumb/4/48/Folder_Hexagonal_Icon.svg/16px-Folder_Hexagonal_Icon.svg.png\n",
      "//en.wikipedia.org/wiki/Special:CentralAutoLogin/start?type=1x1\n",
      "/static/images/wikimedia-button.png\n",
      "/static/images/poweredby_mediawiki_88x31.png\n"
     ]
    }
   ],
   "source": [
    "url = 'https://en.wikipedia.org/wiki/Transhumanism'\n",
    "# get contents from url\n",
    "content = requests.get(url).content\n",
    "# get soup\n",
    "soup = BeautifulSoup(content,'lxml') # choose lxml parser\n",
    "# find the tag : <img ... >\n",
    "image_tags = soup.findAll('img')\n",
    "# print out image urls\n",
    "for image_tag in image_tags:\n",
    "    print(image_tag.get('src'))"
   ]
  },
  {
   "cell_type": "markdown",
   "metadata": {},
   "source": [
    "# seguir a partir daqui"
   ]
  },
  {
   "cell_type": "markdown",
   "metadata": {},
   "source": [
    "## download das imagens\n",
    "[source](https://www.google.com/search?biw=1280&bih=646&tbs=cdr%3A1%2Ccd_min%3A5%2F1%2F2017%2Ccd_max%3A5%2F27%2F2019&ei=LorsXNPcEZ6e5OUPlr6_sAM&q=download+images+%22BeautifulSoup%22&oq=download+images+%22BeautifulSoup%22&gs_l=psy-ab.3..0i22i30l2.3453.4300..4814...0.0..0.123.230.0j2......0....1..gws-wiz.......35i39j0i7i30j0i8i30.z9bl1I3Z86A)"
   ]
  },
  {
   "cell_type": "markdown",
   "metadata": {},
   "source": [
    "[Primeiro link](https://stackoverflow.com/questions/12773921/find-specific-comments-in-html-code-using-python)"
   ]
  },
  {
   "cell_type": "code",
   "execution_count": 5,
   "metadata": {},
   "outputs": [],
   "source": [
    "webpage = \"https://www.magazineluiza.com.br/jogo-de-toalha-santista-royal-knut-4-pecas-100-algodao-turquesa/p/217441300/cm/ctab/\"\n",
    "soup = BeautifulSoup(urlopen(webpage), 'lxml')"
   ]
  },
  {
   "cell_type": "markdown",
   "metadata": {},
   "source": [
    "## Funcionando para salvar QUASE todas as imagens"
   ]
  },
  {
   "cell_type": "code",
   "execution_count": 6,
   "metadata": {},
   "outputs": [],
   "source": [
    "for img in soup.find_all('img'):\n",
    "    img_url = urljoin(webpage, img['src'])\n",
    "    file_name = img['src'].split('/')[-1]\n",
    "    file_path = os.path.join(\"/Users/mattosoerick/Desktop/crawler/img\", file_name)\n",
    "    urlretrieve(img_url, file_path)"
   ]
  },
  {
   "cell_type": "markdown",
   "metadata": {},
   "source": [
    "## Funcionando para salvar a imagem da vitrine"
   ]
  },
  {
   "cell_type": "code",
   "execution_count": 9,
   "metadata": {},
   "outputs": [],
   "source": [
    "imgs = soup.findAll(\"img\", {\"class\":\"showcase-product__big-img\"})\n",
    "\n",
    "for img in imgs:\n",
    "    img_url = urljoin(webpage, img['src'])\n",
    "    file_name = img['src'].split('/')[-1]\n",
    "    file_path = os.path.join(\"/Users/mattosoerick/Desktop/crawler/img/grande\", file_name)\n",
    "    \n",
    "#     http://localhost:8888/notebooks/Desktop/crawler/crawler_27_may_19.ipynb\n",
    "    urlretrieve(img_url, file_path)"
   ]
  },
  {
   "cell_type": "markdown",
   "metadata": {},
   "source": [
    "## Funcionando para salvar as imagens do carousel"
   ]
  },
  {
   "cell_type": "code",
   "execution_count": 8,
   "metadata": {},
   "outputs": [],
   "source": [
    "imgs = soup.findAll(\"img\", {\"class\":\"carousel-product__item-img js-carousels-main-item-img\"})\n",
    "\n",
    "for img in imgs:\n",
    "    img_url = urljoin(webpage, img['src'])\n",
    "    file_name = img['src'].split('/')[-1]\n",
    "    file_path = os.path.join(\"/Users/mattosoerick/Desktop/crawler/img/tudo\", file_name)\n",
    "    urlretrieve(img_url, file_path)"
   ]
  },
  {
   "cell_type": "markdown",
   "metadata": {},
   "source": [
    "## Esse é a base. NÃO ALTERAR. {\"class\":\"showcase-product\"}"
   ]
  },
  {
   "cell_type": "code",
   "execution_count": null,
   "metadata": {},
   "outputs": [],
   "source": []
  }
 ],
 "metadata": {
  "kernelspec": {
   "display_name": "Python 3",
   "language": "python",
   "name": "python3"
  },
  "language_info": {
   "codemirror_mode": {
    "name": "ipython",
    "version": 3
   },
   "file_extension": ".py",
   "mimetype": "text/x-python",
   "name": "python",
   "nbconvert_exporter": "python",
   "pygments_lexer": "ipython3",
   "version": "3.6.4"
  }
 },
 "nbformat": 4,
 "nbformat_minor": 2
}
