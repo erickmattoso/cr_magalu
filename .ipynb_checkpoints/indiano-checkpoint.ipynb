{
 "cells": [
  {
   "cell_type": "code",
   "execution_count": null,
   "metadata": {},
   "outputs": [],
   "source": [
    "from bs4 import BeautifulSoup\n",
    "import requests\n",
    "import json\n",
    "\n",
    "def crawl_kompas(url):\n",
    "    \n",
    "    result = []\n",
    "    req = requests.get(url)\n",
    "    soup = BeautifulSoup(req.text, \"lxml\")\n",
    "    \n",
    "    #find paging page \n",
    "    paging = soup.find_all(\"div\",{'class':'paging clearfix'})\n",
    "    paging_link = paging[0].find_all('a',{'class':'paging__link'})\n",
    "    last_page = int([item.get('href').split('/')[-1] for item in paging_link][-1])\n",
    "\n",
    "    #looping through paging\n",
    "    for i in range(1,last_page):\n",
    "        print url+str(i)\n",
    "\n",
    "        #find article link\n",
    "        req = requests.get(url+str(i))\n",
    "        soup = BeautifulSoup(req.text, \"lxml\")\n",
    "        news_links = soup.find_all(\"div\",{'class':'article__list clearfix'})\n",
    "\n",
    "        #looping through article link\n",
    "        for idx,news in enumerate(news_links):\n",
    "            news_dict = {}\n",
    "\n",
    "            #find news title\n",
    "            title_news= news.find('a',{'class':'article__link'}).text \n",
    "\n",
    "            #find urll news\n",
    "            url_news = news.find('a',{'class':'article__link'}).get('href')\n",
    "            \n",
    "            #find news content in url\n",
    "            req_news =  requests.get(url_news)\n",
    "            soup_news = BeautifulSoup(req_news.text, \"lxml\")\n",
    "\n",
    "            #find news content \n",
    "            news_content = soup_news.find(\"div\",{'class':'read__content'})\n",
    "\n",
    "            #find paragraph in news content \n",
    "            p = news_content.find_all('p')\n",
    "            content = ' '.join(item .text for item in p)\n",
    "            news_content = content.encode('utf8','replace')\n",
    "\n",
    "            #wrap in dictionary \n",
    "            news_dict['id']=idx\n",
    "            news_dict['url'] = url_news\n",
    "            news_dict['title'] = title_news\n",
    "            news_dict['content'] = news_content\n",
    "            result.append(news_dict)\n",
    "\n",
    "    return result"
   ]
  },
  {
   "cell_type": "code",
   "execution_count": null,
   "metadata": {},
   "outputs": [],
   "source": [
    "url = 'http://indeks.kompas.com/news/2017-08-04/'\n",
    "crawl  = crawl_kompas(url)\n",
    "with open(\"kompas.json\",\"w\") as f:\n",
    "    json.dump(crawl,f)"
   ]
  }
 ],
 "metadata": {
  "kernelspec": {
   "display_name": "Python 3",
   "language": "python",
   "name": "python3"
  },
  "language_info": {
   "codemirror_mode": {
    "name": "ipython",
    "version": 3
   },
   "file_extension": ".py",
   "mimetype": "text/x-python",
   "name": "python",
   "nbconvert_exporter": "python",
   "pygments_lexer": "ipython3",
   "version": "3.6.4"
  },
  "toc": {
   "base_numbering": 1,
   "nav_menu": {},
   "number_sections": true,
   "sideBar": true,
   "skip_h1_title": false,
   "title_cell": "Table of Contents",
   "title_sidebar": "Contents",
   "toc_cell": false,
   "toc_position": {},
   "toc_section_display": true,
   "toc_window_display": false
  },
  "varInspector": {
   "cols": {
    "lenName": 16,
    "lenType": 16,
    "lenVar": 40
   },
   "kernels_config": {
    "python": {
     "delete_cmd_postfix": "",
     "delete_cmd_prefix": "del ",
     "library": "var_list.py",
     "varRefreshCmd": "print(var_dic_list())"
    },
    "r": {
     "delete_cmd_postfix": ") ",
     "delete_cmd_prefix": "rm(",
     "library": "var_list.r",
     "varRefreshCmd": "cat(var_dic_list()) "
    }
   },
   "types_to_exclude": [
    "module",
    "function",
    "builtin_function_or_method",
    "instance",
    "_Feature"
   ],
   "window_display": false
  }
 },
 "nbformat": 4,
 "nbformat_minor": 2
}
