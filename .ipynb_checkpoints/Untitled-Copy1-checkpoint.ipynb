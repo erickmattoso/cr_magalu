{
 "cells": [
  {
   "cell_type": "code",
   "execution_count": 1,
   "metadata": {
    "ExecuteTime": {
     "end_time": "2019-07-22T14:19:04.206909Z",
     "start_time": "2019-07-22T14:19:03.296372Z"
    }
   },
   "outputs": [],
   "source": [
    "from bs4 import BeautifulSoup\n",
    "import requests "
   ]
  },
  {
   "cell_type": "code",
   "execution_count": 2,
   "metadata": {
    "ExecuteTime": {
     "end_time": "2019-07-22T14:19:05.730170Z",
     "start_time": "2019-07-22T14:19:04.209555Z"
    }
   },
   "outputs": [
    {
     "name": "stdout",
     "output_type": "stream",
     "text": [
      "1 Pão Recheado com Chocolate => /videos/pao-recheado-com-chocolate-dona-benta\n",
      "2 Berinjela com Missô => /videos/berinjela-com-misso\n",
      "3 Bem Casado no Pote => /videos/bem-casado-no-pote-azull\n",
      "4 Queijadinha Cremosa => /videos/queijadinha-cremosa\n",
      "5 Coxinha de Pernil => /videos/coxinha-de-pernil\n",
      "6 Como Fazer Molho Pesto => /videos/minidoc-barilla-pesto\n",
      "7 Peru ao Molho Cítrico => /videos/peru-ao-molho-citrico\n",
      "8 Sanduíche de Mortadela => /programas/mercados-do-brasil/sanduiche-de-mortadela\n",
      "9 Peru ao Molho de Ervas => /programas/fazendo-o-natal-juntos/peru-ao-molho-de-ervas\n",
      "10 Batata Smile Caseira => /videos/batata-smile\n",
      "11 Pernil Coberto com Geleia e Presunto Parma => /videos/pernil-coberto-com-geleia-e-presunto-parma-sadia\n",
      "12 Peru de Natal => /programas/fazendo-o-natal-juntos/peru-de-natal\n"
     ]
    }
   ],
   "source": [
    "url = 'https://www.tastemade.com.br/receitas/receitas-classicas'\n",
    "req = requests.get(url)\n",
    "soup = BeautifulSoup(req.text, \"lxml\")\n",
    "\n",
    "counter=1\n",
    "for div in soup.findAll('div', {'class': 'MediaCard__Card-zlkxh-0 cFSrYV'}):\n",
    "    a = div.findAll('a')[1]\n",
    "    print (str(counter), a.text.strip(), '=>', a.attrs['href'])\n",
    "    counter+=1"
   ]
  },
  {
   "cell_type": "code",
   "execution_count": 3,
   "metadata": {
    "ExecuteTime": {
     "end_time": "2019-07-22T14:19:07.043984Z",
     "start_time": "2019-07-22T14:19:05.741007Z"
    }
   },
   "outputs": [
    {
     "name": "stdout",
     "output_type": "stream",
     "text": [
      "https://www.tastemade.com.br/videos/pao-recheado-com-chocolate-dona-benta\n",
      "https://www.tastemade.com.br/videos/berinjela-com-misso\n",
      "https://www.tastemade.com.br/videos/bem-casado-no-pote-azull\n",
      "https://www.tastemade.com.br/videos/queijadinha-cremosa\n",
      "https://www.tastemade.com.br/videos/coxinha-de-pernil\n",
      "https://www.tastemade.com.br/videos/minidoc-barilla-pesto\n",
      "https://www.tastemade.com.br/videos/peru-ao-molho-citrico\n",
      "https://www.tastemade.com.br/programas/mercados-do-brasil/sanduiche-de-mortadela\n",
      "https://www.tastemade.com.br/programas/fazendo-o-natal-juntos/peru-ao-molho-de-ervas\n",
      "https://www.tastemade.com.br/videos/batata-smile\n",
      "https://www.tastemade.com.br/videos/pernil-coberto-com-geleia-e-presunto-parma-sadia\n",
      "https://www.tastemade.com.br/programas/fazendo-o-natal-juntos/peru-de-natal\n"
     ]
    }
   ],
   "source": [
    "link = 'https://www.tastemade.com.br/receitas/receitas-classicas'\n",
    "req = requests.get(link)\n",
    "soup = BeautifulSoup(req.text, \"lxml\")\n",
    "\n",
    "for div in soup.findAll('div', {'class': 'MediaCard__Card-zlkxh-0 cFSrYV'}):\n",
    "    a = div.findAll('a')[1]\n",
    "    irl = a.attrs['href']\n",
    "    url = 'https://www.tastemade.com.br' + irl\n",
    "    print(url)"
   ]
  },
  {
   "cell_type": "code",
   "execution_count": 4,
   "metadata": {
    "ExecuteTime": {
     "end_time": "2019-07-22T14:19:07.108591Z",
     "start_time": "2019-07-22T14:19:07.073268Z"
    }
   },
   "outputs": [
    {
     "name": "stdout",
     "output_type": "stream",
     "text": [
      "a\n",
      "b\n",
      "ericson:  a\n",
      "ericson:  b\n"
     ]
    }
   ],
   "source": [
    "example = '''\n",
    "<html>\n",
    "    <body>\n",
    "        <ul>\n",
    "            <li>a</li>\n",
    "            <ul>\n",
    "                <li>b</li>\n",
    "            </ul>\n",
    "        </ul>\n",
    "    </body>\n",
    "</html>\n",
    "'''\n",
    "\n",
    "soup = BeautifulSoup(example, \"lxml\")\n",
    "\n",
    "\n",
    "for tag in soup.ul.find_all(\"li\", recursive=True): \n",
    "    print(tag.text)\n",
    "\n",
    "for tag in soup.ul.find_all(\"li\", recursive=True): \n",
    "    print('ericson: ', tag.text)"
   ]
  },
  {
   "cell_type": "code",
   "execution_count": 5,
   "metadata": {
    "ExecuteTime": {
     "end_time": "2019-07-22T14:19:07.149623Z",
     "start_time": "2019-07-22T14:19:07.113615Z"
    }
   },
   "outputs": [
    {
     "name": "stdout",
     "output_type": "stream",
     "text": [
      "150g de açúcar\n",
      "Abacaxi em rodelas \n",
      "395g de leite condensado\n",
      "300ml de leite integral\n",
      "6 gemas peneiradas\n",
      "6 claras\n",
      "1 xícara de açúcar\n",
      "\n",
      "ericson:  150g de açúcar\n",
      "ericson:  Abacaxi em rodelas \n",
      "ericson:  395g de leite condensado\n",
      "ericson:  300ml de leite integral\n",
      "ericson:  6 gemas peneiradas\n",
      "ericson:  6 claras\n",
      "ericson:  1 xícara de açúcar\n"
     ]
    }
   ],
   "source": [
    "example = '''\n",
    "<ul class=\"VideoRecipe__ColumnList-sc-4pl27p-4 ejnRvL\"><li><p class=\"p-ingredient\">150g de açúcar</p></li><li><p class=\"p-ingredient\">Abacaxi em rodelas </p></li><li><p class=\"p-ingredient\">395g de leite condensado</p></li><li><p class=\"p-ingredient\">300ml de leite integral</p></li><li><p class=\"p-ingredient\">6 gemas peneiradas</p></li><li><p class=\"p-ingredient\">6 claras</p></li><li><p class=\"p-ingredient\">1 xícara de açúcar</p></li></ul>\n",
    "'''\n",
    "\n",
    "soup = BeautifulSoup(example, \"lxml\")\n",
    "\n",
    "for tag in soup.ul.find_all(\"li\", recursive=True): \n",
    "    print(tag.text)\n",
    "    \n",
    "print()\n",
    "\n",
    "for tag in soup.ul.find_all(\"li\", recursive=False): \n",
    "    print('ericson: ', tag.text)"
   ]
  },
  {
   "cell_type": "code",
   "execution_count": 6,
   "metadata": {
    "ExecuteTime": {
     "end_time": "2019-07-22T14:19:08.334328Z",
     "start_time": "2019-07-22T14:19:07.155680Z"
    }
   },
   "outputs": [
    {
     "name": "stdout",
     "output_type": "stream",
     "text": [
      "ericson:  Comida\n",
      "ericson:  Programas\n",
      "ericson:  Tastemakers\n"
     ]
    }
   ],
   "source": [
    "link = 'https://www.tastemade.com.br/programas/fazendo-o-natal-juntos/peru-ao-molho-de-ervas'\n",
    "req = requests.get(link)\n",
    "soup = BeautifulSoup(req.text, \"lxml\")\n",
    "\n",
    "for tag in soup.ul.find_all(\"li\"): \n",
    "    print('ericson: ', tag.text)"
   ]
  },
  {
   "cell_type": "code",
   "execution_count": 7,
   "metadata": {
    "ExecuteTime": {
     "end_time": "2019-07-22T14:19:09.647462Z",
     "start_time": "2019-07-22T14:19:08.349481Z"
    },
    "scrolled": false
   },
   "outputs": [
    {
     "name": "stdout",
     "output_type": "stream",
     "text": [
      "ingredientes: Azeite de oliva\n",
      "ingredientes: 3 bananas picadas, não muito maduras (rodela cortada em 2 partes)\n",
      "ingredientes: ½ xícara bacon Sadia em cubos \n",
      "ingredientes: 3 xícaras de farinha de mandioca grossa\n",
      "ingredientes: ½ salsinha picada\n",
      "ingredientes: 1 abóbora cabotiá sem casca em cubos\n",
      "ingredientes: 100ml leite\n",
      "ingredientes: 200 gramas de queijo parmesão\n",
      "ingredientes: 100ml de água\n",
      "ingredientes: Sal\n",
      "ingredientes: Azeite\n",
      "ingredientes: 10 folhas de alface americana \n",
      "ingredientes: 1 ½ xícara de tomate cereja cortados ao meio\n",
      "ingredientes: ½ cenoura ralada\n",
      "ingredientes: 10 morangos cortados ao meio\n",
      "ingredientes: 100g de queijo minas em cubos\n",
      "ingredientes: ⅓ xícara de castanhas do Pará picada\n",
      "ingredientes: ⅓ xícara de castanhas de caju\n",
      "ingredientes: ⅓ xícara de nozes picadas\n",
      "ingredientes: 1 xícara  de croutons \n",
      "ingredientes: 2 colheres de sopa de geleia de framboesa\n",
      "ingredientes: 4 colheres de sopa de azeite\n",
      "ingredientes: 1 colher de sopa de vinagre balsâmico\n",
      "ingredientes: Sal\n",
      "ingredientes: Pimenta-do-reino\n",
      "ingredientes: Peru Sadia\n",
      "ingredientes: Azeite de oliva\n",
      "ingredientes: 3 xícaras de arroz parboilizado cozido\n",
      "ingredientes: ⅓ xícara de castanha do pará picada\n",
      "ingredientes: ⅓ xícara de castanha de caju picada\n",
      "ingredientes: ⅓ xícara de nozes picadas\n",
      "ingredientes: 3 dentes de alho picados\n",
      "ingredientes: Tomilho fresco a gosto\n",
      "ingredientes: Sal\n",
      "ingredientes: Pimenta-do-reino\n",
      "ingredientes: ½ xícara de azeite\n",
      "ingredientes: Alecrim fresco a gosto\n",
      "ingredientes: Orégano fresco a gosto\n"
     ]
    }
   ],
   "source": [
    "link = 'https://www.tastemade.com.br/programas/fazendo-o-natal-juntos/peru-ao-molho-de-ervas'\n",
    "\n",
    "class_html = 'VideoRecipe__ColumnList-sc-4pl27p-4 ejnRvL'\n",
    "req = requests.get(link)\n",
    "soup = BeautifulSoup(req.text, \"lxml\")\n",
    "\n",
    "for ul in soup.findAll('ul', {'class': class_html}):\n",
    "    for li in ul.findAll(\"li\"): \n",
    "        print('ingredientes:', li.text)"
   ]
  },
  {
   "cell_type": "code",
   "execution_count": 8,
   "metadata": {
    "ExecuteTime": {
     "end_time": "2019-07-22T14:19:09.722705Z",
     "start_time": "2019-07-22T14:19:09.654078Z"
    },
    "scrolled": false
   },
   "outputs": [],
   "source": [
    "# #! /usr/bin/env python\n",
    "# # -*- coding: utf-8 -*-\n",
    "# # vim:fenc=utf-8\n",
    "\n",
    "# \"\"\"\n",
    "# https://www.accordbox.com/blog/how-crawl-infinite-scrolling-pages-using-python/\n",
    "# BeautifulSoup does not support XPath expression by default, so we use CSS\n",
    "# the expression here, but you can use https://github.com/scrapy/parsel to write\n",
    "# XPath to extract data as you like\n",
    "\n",
    "# \"\"\"\n",
    "# from __future__ import print_function\n",
    "# from bs4 import BeautifulSoup\n",
    "# import requests\n",
    "# from six.moves.urllib import parse\n",
    "\n",
    "# START_PAGE = \"https://scrapingclub.com/exercise/list_infinite_scroll/\"\n",
    "\n",
    "# QUEUE = []\n",
    "\n",
    "# def parse_list_page(url):\n",
    "#     r = requests.get(url)\n",
    "#     soup = BeautifulSoup(r.text, \"lxml\")\n",
    "\n",
    "#     links = soup.select('a[class=\"page-link next-page\"]')\n",
    "#     if links:\n",
    "#         next_link = links[0].attrs['href']\n",
    "#         next_link = url[:url.find('?')] + next_link\n",
    "#         QUEUE.append(\n",
    "#             (parse_list_page, next_link)\n",
    "#         )\n",
    "\n",
    "#     links = soup.select('div.col-lg-8 div.card a')\n",
    "#     for link in links:\n",
    "#         product_url = link.attrs['href']\n",
    "#         result = parse.urlparse(url)\n",
    "#         base_url = parse.urlunparse(\n",
    "#             (result.scheme, result.netloc, \"\", \"\", \"\", \"\")\n",
    "#         )\n",
    "#         product_url = parse.urljoin(base_url, product_url)\n",
    "#         QUEUE.append(\n",
    "#             (parse_detail_page, product_url)\n",
    "#         )\n",
    "\n",
    "# def parse_detail_page(url):\n",
    "#     # r = requests.get(url)\n",
    "#     # soup = BeautifulSoup(r.text, \"lxml\")\n",
    "#     print(\"processing \" + url)\n",
    "\n",
    "# def main():\n",
    "#     \"\"\"\n",
    "#     Push callback method and url to queue\n",
    "#     \"\"\"\n",
    "#     QUEUE.append(\n",
    "#         (parse_list_page, START_PAGE)\n",
    "#     )\n",
    "\n",
    "#     while len(QUEUE):\n",
    "#         call_back, url = QUEUE.pop(0)\n",
    "#         call_back(url)\n",
    "\n",
    "# if __name__ == '__main__':\n",
    "#     main()\n",
    "# # main()"
   ]
  },
  {
   "cell_type": "code",
   "execution_count": 9,
   "metadata": {
    "ExecuteTime": {
     "end_time": "2019-07-22T14:19:09.747211Z",
     "start_time": "2019-07-22T14:19:09.736657Z"
    },
    "scrolled": false
   },
   "outputs": [],
   "source": [
    "# import requests\n",
    "# from urllib.parse import urljoin\n",
    "# from bs4 import BeautifulSoup\n",
    "\n",
    "# url = 'http://www.imdb.com/title/tt0371746/reviews?ref_=tt_urv'\n",
    "# res = requests.get(url)\n",
    "# soup = BeautifulSoup(res.text,\"lxml\")\n",
    "\n",
    "# main_content = urljoin(url,soup.select(\".load-more-data\")[0]['data-ajaxurl'])  ##extracting the link leading to the page containing everything available here\n",
    "# response = requests.get(main_content)\n",
    "# broth = BeautifulSoup(response.text,\"lxml\")\n",
    "\n",
    "# for item in broth.select(\".review-container\"):\n",
    "#     title = item.select(\".title\")[0].text\n",
    "#     review = item.select(\".text\")[0].text\n",
    "#     print(\"Title: {}\\n\\nReview: {}\\n\\n\".format(title,review))"
   ]
  },
  {
   "cell_type": "code",
   "execution_count": 10,
   "metadata": {
    "ExecuteTime": {
     "end_time": "2019-07-22T14:19:09.766674Z",
     "start_time": "2019-07-22T14:19:09.752312Z"
    }
   },
   "outputs": [
    {
     "name": "stdout",
     "output_type": "stream",
     "text": [
      "https://www.tastemade.com.br/receitas/receitas-classicas?page=1\n",
      "https://www.tastemade.com.br/receitas/receitas-classicas?page=2\n",
      "https://www.tastemade.com.br/receitas/receitas-classicas?page=3\n",
      "https://www.tastemade.com.br/receitas/receitas-classicas?page=4\n",
      "https://www.tastemade.com.br/receitas/receitas-classicas?page=5\n",
      "https://www.tastemade.com.br/receitas/receitas-classicas?page=6\n",
      "https://www.tastemade.com.br/receitas/receitas-classicas?page=7\n",
      "https://www.tastemade.com.br/receitas/receitas-classicas?page=8\n",
      "https://www.tastemade.com.br/receitas/receitas-classicas?page=9\n",
      "https://www.tastemade.com.br/receitas/receitas-classicas?page=10\n",
      "https://www.tastemade.com.br/receitas/receitas-classicas?page=11\n",
      "https://www.tastemade.com.br/receitas/receitas-classicas?page=12\n",
      "https://www.tastemade.com.br/receitas/receitas-classicas?page=13\n",
      "https://www.tastemade.com.br/receitas/receitas-classicas?page=14\n",
      "https://www.tastemade.com.br/receitas/receitas-classicas?page=15\n",
      "https://www.tastemade.com.br/receitas/receitas-classicas?page=16\n",
      "https://www.tastemade.com.br/receitas/receitas-classicas?page=17\n",
      "https://www.tastemade.com.br/receitas/receitas-classicas?page=18\n",
      "https://www.tastemade.com.br/receitas/receitas-classicas?page=19\n",
      "https://www.tastemade.com.br/receitas/receitas-classicas?page=20\n",
      "https://www.tastemade.com.br/receitas/receitas-classicas?page=21\n",
      "https://www.tastemade.com.br/receitas/receitas-classicas?page=22\n",
      "https://www.tastemade.com.br/receitas/receitas-classicas?page=23\n"
     ]
    }
   ],
   "source": [
    "for i in range(1,24):\n",
    "    print('https://www.tastemade.com.br/receitas/receitas-classicas?page=' + str(i))"
   ]
  },
  {
   "cell_type": "code",
   "execution_count": 11,
   "metadata": {
    "ExecuteTime": {
     "end_time": "2019-07-22T14:19:09.792076Z",
     "start_time": "2019-07-22T14:19:09.775334Z"
    }
   },
   "outputs": [],
   "source": [
    "def testando_NA(url):\n",
    "    req = requests.get(url)\n",
    "    soup = BeautifulSoup(req.text, \"lxml\")\n",
    "    data = []\n",
    "    result = soup.find('div', class_=\"MediaCard__Card-zlkxh-0 cFSrYV\")\n",
    "    data.append(result.text if result else \"N/A\")\n",
    "    print(data)"
   ]
  },
  {
   "cell_type": "code",
   "execution_count": 12,
   "metadata": {
    "ExecuteTime": {
     "end_time": "2019-07-22T14:19:11.979611Z",
     "start_time": "2019-07-22T14:19:09.797316Z"
    }
   },
   "outputs": [
    {
     "name": "stdout",
     "output_type": "stream",
     "text": [
      "['Steak TartareUiara Araújo vai ao renomado açougue Hugo Desnoyer comprar uma carne para depois...Salvar']\n",
      "['N/A']\n"
     ]
    }
   ],
   "source": [
    "testando_NA('https://www.tastemade.com.br/receitas/receitas-classicas?page=20')\n",
    "testando_NA('https://www.tastemade.com.br/receitas/receitas-classicas?page=24')"
   ]
  },
  {
   "cell_type": "code",
   "execution_count": 13,
   "metadata": {
    "ExecuteTime": {
     "end_time": "2019-07-22T14:19:17.583718Z",
     "start_time": "2019-07-22T14:19:11.984052Z"
    },
    "scrolled": false
   },
   "outputs": [
    {
     "name": "stdout",
     "output_type": "stream",
     "text": [
      "Pão Recheado com ChocolateQue tal fazer esse pão recheado com chocolate para dividir com a família hoje? Salvar\n",
      "CocadaInspirada pela praia de Trancoso, Isadora ensina como fazer um dos mais famosos...Salvar\n",
      "None\n",
      "None\n",
      "Tender Glaciado ao Molho de MostardaMichele Crispim vai te ensinar um prato delicioso para a ceia de Natal: um Tender...Salvar\n"
     ]
    }
   ],
   "source": [
    "def testando_NA(url):\n",
    "    req = requests.get(url)\n",
    "    soup = BeautifulSoup(req.text, \"lxml\")\n",
    "    result = soup.find('div', class_=\"MediaCard__Card-zlkxh-0 cFSrYV\")\n",
    "    ericson = (result.text if result else None)\n",
    "    print(ericson)\n",
    "\n",
    "testando_NA('https://www.tastemade.com.br/receitas/receitas-classicas?page=1')\n",
    "testando_NA('https://www.tastemade.com.br/receitas/receitas-classicas?page=22')\n",
    "testando_NA('https://www.tastemade.com.br/receitas/receitas-classicas?page=23')\n",
    "testando_NA('https://www.tastemade.com.br/receitas/receitas-classicas?page=24')\n",
    "testando_NA('https://www.tastemade.com.br/receitas/receitas-classicas?page=2')"
   ]
  },
  {
   "cell_type": "code",
   "execution_count": 14,
   "metadata": {
    "ExecuteTime": {
     "end_time": "2019-07-22T14:19:19.826007Z",
     "start_time": "2019-07-22T14:19:17.595895Z"
    }
   },
   "outputs": [
    {
     "name": "stdout",
     "output_type": "stream",
     "text": [
      "User: nikond3100cam2\n",
      " Signiture: <a href=\"http://www.nikon-d3100.com\">Nikon D3100</a> - Digital CameraD3100 NikonNikon DSLR D3100Nikon D3100Nik\n",
      "User: alvinswaim\n",
      " Signiture: \n"
     ]
    }
   ],
   "source": [
    "import requests\n",
    "import time\n",
    "from bs4 import BeautifulSoup\n",
    "  \n",
    "UID_start = 58217\n",
    "UID_end = 58221\n",
    "  \n",
    "for UID in range(UID_start, UID_end):\n",
    "#     print(UID)\n",
    "    #I have altered the link for this post to work\n",
    "    page = requests.get(\"http://forum.shipspotting.com/index.php?action=profile;u=\" + str(UID)) \n",
    "    soup = BeautifulSoup(page.content, 'html.parser')\n",
    "    div = soup.find(\"div\", {'class':'content'})\n",
    "    signature = div.find(\"div\", {'class':\"signature\"})\n",
    "    user = div.find('tr', {'class':'titlebg'}).find('td').text.split(' ')[-1].strip()\n",
    "    try:\n",
    "        print('User: {}\\n Signiture: {}'.format(user, signature.text))\n",
    "    except AttributeError:\n",
    "        break\n",
    "        print('erick',div.find('tr', {'class':'windowbg'}).text.strip())\n",
    "#     print\n",
    "#     time.sleep(1) # add some sleep between requests"
   ]
  },
  {
   "cell_type": "code",
   "execution_count": null,
   "metadata": {
    "ExecuteTime": {
     "start_time": "2019-07-22T14:19:03.194Z"
    }
   },
   "outputs": [
    {
     "ename": "KeyboardInterrupt",
     "evalue": "",
     "output_type": "error",
     "traceback": [
      "\u001b[0;31m---------------------------------------------------------------------------\u001b[0m",
      "\u001b[0;31mKeyboardInterrupt\u001b[0m                         Traceback (most recent call last)",
      "\u001b[0;32m<ipython-input-15-3f9a0af7364c>\u001b[0m in \u001b[0;36m<module>\u001b[0;34m()\u001b[0m\n\u001b[1;32m     12\u001b[0m             \u001b[0mprint\u001b[0m\u001b[0;34m(\u001b[0m\u001b[0;34m'break'\u001b[0m\u001b[0;34m)\u001b[0m\u001b[0;34m\u001b[0m\u001b[0m\n\u001b[1;32m     13\u001b[0m             \u001b[0;32mbreak\u001b[0m\u001b[0;34m\u001b[0m\u001b[0m\n\u001b[0;32m---> 14\u001b[0;31m \u001b[0mtestando_NA\u001b[0m\u001b[0;34m(\u001b[0m\u001b[0;34m'https://www.tastemade.com.br/receitas/receitas-classicas?page='\u001b[0m\u001b[0;34m)\u001b[0m\u001b[0;34m\u001b[0m\u001b[0m\n\u001b[0m",
      "\u001b[0;32m<ipython-input-15-3f9a0af7364c>\u001b[0m in \u001b[0;36mtestando_NA\u001b[0;34m(url)\u001b[0m\n\u001b[1;32m      3\u001b[0m     \u001b[0;32mfor\u001b[0m \u001b[0mi\u001b[0m \u001b[0;32min\u001b[0m \u001b[0mrange\u001b[0m\u001b[0;34m(\u001b[0m\u001b[0;36m21\u001b[0m\u001b[0;34m,\u001b[0m\u001b[0;36m25\u001b[0m\u001b[0;34m)\u001b[0m\u001b[0;34m:\u001b[0m\u001b[0;34m\u001b[0m\u001b[0m\n\u001b[1;32m      4\u001b[0m         \u001b[0murl\u001b[0m \u001b[0;34m=\u001b[0m \u001b[0;34m(\u001b[0m\u001b[0;34m'https://www.tastemade.com.br/receitas/receitas-classicas?page='\u001b[0m \u001b[0;34m+\u001b[0m \u001b[0mstr\u001b[0m\u001b[0;34m(\u001b[0m\u001b[0mi\u001b[0m\u001b[0;34m)\u001b[0m\u001b[0;34m)\u001b[0m\u001b[0;34m\u001b[0m\u001b[0m\n\u001b[0;32m----> 5\u001b[0;31m         \u001b[0mreq\u001b[0m \u001b[0;34m=\u001b[0m \u001b[0mrequests\u001b[0m\u001b[0;34m.\u001b[0m\u001b[0mget\u001b[0m\u001b[0;34m(\u001b[0m\u001b[0murl\u001b[0m\u001b[0;34m)\u001b[0m\u001b[0;34m\u001b[0m\u001b[0m\n\u001b[0m\u001b[1;32m      6\u001b[0m         \u001b[0msoup\u001b[0m \u001b[0;34m=\u001b[0m \u001b[0mBeautifulSoup\u001b[0m\u001b[0;34m(\u001b[0m\u001b[0mreq\u001b[0m\u001b[0;34m.\u001b[0m\u001b[0mtext\u001b[0m\u001b[0;34m,\u001b[0m \u001b[0;34m\"lxml\"\u001b[0m\u001b[0;34m)\u001b[0m\u001b[0;34m\u001b[0m\u001b[0m\n\u001b[1;32m      7\u001b[0m         \u001b[0mresult\u001b[0m \u001b[0;34m=\u001b[0m \u001b[0msoup\u001b[0m\u001b[0;34m.\u001b[0m\u001b[0mfind\u001b[0m\u001b[0;34m(\u001b[0m\u001b[0;34m'div'\u001b[0m\u001b[0;34m,\u001b[0m \u001b[0mclass_\u001b[0m\u001b[0;34m=\u001b[0m\u001b[0;34m\"MediaCard__Card-zlkxh-0 cFSrYV\"\u001b[0m\u001b[0;34m)\u001b[0m\u001b[0;34m\u001b[0m\u001b[0m\n",
      "\u001b[0;32m~/anaconda3/lib/python3.6/site-packages/requests/api.py\u001b[0m in \u001b[0;36mget\u001b[0;34m(url, params, **kwargs)\u001b[0m\n\u001b[1;32m     73\u001b[0m \u001b[0;34m\u001b[0m\u001b[0m\n\u001b[1;32m     74\u001b[0m     \u001b[0mkwargs\u001b[0m\u001b[0;34m.\u001b[0m\u001b[0msetdefault\u001b[0m\u001b[0;34m(\u001b[0m\u001b[0;34m'allow_redirects'\u001b[0m\u001b[0;34m,\u001b[0m \u001b[0;32mTrue\u001b[0m\u001b[0;34m)\u001b[0m\u001b[0;34m\u001b[0m\u001b[0m\n\u001b[0;32m---> 75\u001b[0;31m     \u001b[0;32mreturn\u001b[0m \u001b[0mrequest\u001b[0m\u001b[0;34m(\u001b[0m\u001b[0;34m'get'\u001b[0m\u001b[0;34m,\u001b[0m \u001b[0murl\u001b[0m\u001b[0;34m,\u001b[0m \u001b[0mparams\u001b[0m\u001b[0;34m=\u001b[0m\u001b[0mparams\u001b[0m\u001b[0;34m,\u001b[0m \u001b[0;34m**\u001b[0m\u001b[0mkwargs\u001b[0m\u001b[0;34m)\u001b[0m\u001b[0;34m\u001b[0m\u001b[0m\n\u001b[0m\u001b[1;32m     76\u001b[0m \u001b[0;34m\u001b[0m\u001b[0m\n\u001b[1;32m     77\u001b[0m \u001b[0;34m\u001b[0m\u001b[0m\n",
      "\u001b[0;32m~/anaconda3/lib/python3.6/site-packages/requests/api.py\u001b[0m in \u001b[0;36mrequest\u001b[0;34m(method, url, **kwargs)\u001b[0m\n\u001b[1;32m     58\u001b[0m     \u001b[0;31m# cases, and look like a memory leak in others.\u001b[0m\u001b[0;34m\u001b[0m\u001b[0;34m\u001b[0m\u001b[0m\n\u001b[1;32m     59\u001b[0m     \u001b[0;32mwith\u001b[0m \u001b[0msessions\u001b[0m\u001b[0;34m.\u001b[0m\u001b[0mSession\u001b[0m\u001b[0;34m(\u001b[0m\u001b[0;34m)\u001b[0m \u001b[0;32mas\u001b[0m \u001b[0msession\u001b[0m\u001b[0;34m:\u001b[0m\u001b[0;34m\u001b[0m\u001b[0m\n\u001b[0;32m---> 60\u001b[0;31m         \u001b[0;32mreturn\u001b[0m \u001b[0msession\u001b[0m\u001b[0;34m.\u001b[0m\u001b[0mrequest\u001b[0m\u001b[0;34m(\u001b[0m\u001b[0mmethod\u001b[0m\u001b[0;34m=\u001b[0m\u001b[0mmethod\u001b[0m\u001b[0;34m,\u001b[0m \u001b[0murl\u001b[0m\u001b[0;34m=\u001b[0m\u001b[0murl\u001b[0m\u001b[0;34m,\u001b[0m \u001b[0;34m**\u001b[0m\u001b[0mkwargs\u001b[0m\u001b[0;34m)\u001b[0m\u001b[0;34m\u001b[0m\u001b[0m\n\u001b[0m\u001b[1;32m     61\u001b[0m \u001b[0;34m\u001b[0m\u001b[0m\n\u001b[1;32m     62\u001b[0m \u001b[0;34m\u001b[0m\u001b[0m\n",
      "\u001b[0;32m~/anaconda3/lib/python3.6/site-packages/requests/sessions.py\u001b[0m in \u001b[0;36mrequest\u001b[0;34m(self, method, url, params, data, headers, cookies, files, auth, timeout, allow_redirects, proxies, hooks, stream, verify, cert, json)\u001b[0m\n\u001b[1;32m    522\u001b[0m         }\n\u001b[1;32m    523\u001b[0m         \u001b[0msend_kwargs\u001b[0m\u001b[0;34m.\u001b[0m\u001b[0mupdate\u001b[0m\u001b[0;34m(\u001b[0m\u001b[0msettings\u001b[0m\u001b[0;34m)\u001b[0m\u001b[0;34m\u001b[0m\u001b[0m\n\u001b[0;32m--> 524\u001b[0;31m         \u001b[0mresp\u001b[0m \u001b[0;34m=\u001b[0m \u001b[0mself\u001b[0m\u001b[0;34m.\u001b[0m\u001b[0msend\u001b[0m\u001b[0;34m(\u001b[0m\u001b[0mprep\u001b[0m\u001b[0;34m,\u001b[0m \u001b[0;34m**\u001b[0m\u001b[0msend_kwargs\u001b[0m\u001b[0;34m)\u001b[0m\u001b[0;34m\u001b[0m\u001b[0m\n\u001b[0m\u001b[1;32m    525\u001b[0m \u001b[0;34m\u001b[0m\u001b[0m\n\u001b[1;32m    526\u001b[0m         \u001b[0;32mreturn\u001b[0m \u001b[0mresp\u001b[0m\u001b[0;34m\u001b[0m\u001b[0m\n",
      "\u001b[0;32m~/anaconda3/lib/python3.6/site-packages/requests/sessions.py\u001b[0m in \u001b[0;36msend\u001b[0;34m(self, request, **kwargs)\u001b[0m\n\u001b[1;32m    675\u001b[0m \u001b[0;34m\u001b[0m\u001b[0m\n\u001b[1;32m    676\u001b[0m         \u001b[0;32mif\u001b[0m \u001b[0;32mnot\u001b[0m \u001b[0mstream\u001b[0m\u001b[0;34m:\u001b[0m\u001b[0;34m\u001b[0m\u001b[0m\n\u001b[0;32m--> 677\u001b[0;31m             \u001b[0mr\u001b[0m\u001b[0;34m.\u001b[0m\u001b[0mcontent\u001b[0m\u001b[0;34m\u001b[0m\u001b[0m\n\u001b[0m\u001b[1;32m    678\u001b[0m \u001b[0;34m\u001b[0m\u001b[0m\n\u001b[1;32m    679\u001b[0m         \u001b[0;32mreturn\u001b[0m \u001b[0mr\u001b[0m\u001b[0;34m\u001b[0m\u001b[0m\n",
      "\u001b[0;32m~/anaconda3/lib/python3.6/site-packages/requests/models.py\u001b[0m in \u001b[0;36mcontent\u001b[0;34m(self)\u001b[0m\n\u001b[1;32m    826\u001b[0m                 \u001b[0mself\u001b[0m\u001b[0;34m.\u001b[0m\u001b[0m_content\u001b[0m \u001b[0;34m=\u001b[0m \u001b[0;32mNone\u001b[0m\u001b[0;34m\u001b[0m\u001b[0m\n\u001b[1;32m    827\u001b[0m             \u001b[0;32melse\u001b[0m\u001b[0;34m:\u001b[0m\u001b[0;34m\u001b[0m\u001b[0m\n\u001b[0;32m--> 828\u001b[0;31m                 \u001b[0mself\u001b[0m\u001b[0;34m.\u001b[0m\u001b[0m_content\u001b[0m \u001b[0;34m=\u001b[0m \u001b[0;34mb''\u001b[0m\u001b[0;34m.\u001b[0m\u001b[0mjoin\u001b[0m\u001b[0;34m(\u001b[0m\u001b[0mself\u001b[0m\u001b[0;34m.\u001b[0m\u001b[0miter_content\u001b[0m\u001b[0;34m(\u001b[0m\u001b[0mCONTENT_CHUNK_SIZE\u001b[0m\u001b[0;34m)\u001b[0m\u001b[0;34m)\u001b[0m \u001b[0;32mor\u001b[0m \u001b[0;34mb''\u001b[0m\u001b[0;34m\u001b[0m\u001b[0m\n\u001b[0m\u001b[1;32m    829\u001b[0m \u001b[0;34m\u001b[0m\u001b[0m\n\u001b[1;32m    830\u001b[0m         \u001b[0mself\u001b[0m\u001b[0;34m.\u001b[0m\u001b[0m_content_consumed\u001b[0m \u001b[0;34m=\u001b[0m \u001b[0;32mTrue\u001b[0m\u001b[0;34m\u001b[0m\u001b[0m\n",
      "\u001b[0;32m~/anaconda3/lib/python3.6/site-packages/requests/models.py\u001b[0m in \u001b[0;36mgenerate\u001b[0;34m()\u001b[0m\n\u001b[1;32m    748\u001b[0m             \u001b[0;32mif\u001b[0m \u001b[0mhasattr\u001b[0m\u001b[0;34m(\u001b[0m\u001b[0mself\u001b[0m\u001b[0;34m.\u001b[0m\u001b[0mraw\u001b[0m\u001b[0;34m,\u001b[0m \u001b[0;34m'stream'\u001b[0m\u001b[0;34m)\u001b[0m\u001b[0;34m:\u001b[0m\u001b[0;34m\u001b[0m\u001b[0m\n\u001b[1;32m    749\u001b[0m                 \u001b[0;32mtry\u001b[0m\u001b[0;34m:\u001b[0m\u001b[0;34m\u001b[0m\u001b[0m\n\u001b[0;32m--> 750\u001b[0;31m                     \u001b[0;32mfor\u001b[0m \u001b[0mchunk\u001b[0m \u001b[0;32min\u001b[0m \u001b[0mself\u001b[0m\u001b[0;34m.\u001b[0m\u001b[0mraw\u001b[0m\u001b[0;34m.\u001b[0m\u001b[0mstream\u001b[0m\u001b[0;34m(\u001b[0m\u001b[0mchunk_size\u001b[0m\u001b[0;34m,\u001b[0m \u001b[0mdecode_content\u001b[0m\u001b[0;34m=\u001b[0m\u001b[0;32mTrue\u001b[0m\u001b[0;34m)\u001b[0m\u001b[0;34m:\u001b[0m\u001b[0;34m\u001b[0m\u001b[0m\n\u001b[0m\u001b[1;32m    751\u001b[0m                         \u001b[0;32myield\u001b[0m \u001b[0mchunk\u001b[0m\u001b[0;34m\u001b[0m\u001b[0m\n\u001b[1;32m    752\u001b[0m                 \u001b[0;32mexcept\u001b[0m \u001b[0mProtocolError\u001b[0m \u001b[0;32mas\u001b[0m \u001b[0me\u001b[0m\u001b[0;34m:\u001b[0m\u001b[0;34m\u001b[0m\u001b[0m\n",
      "\u001b[0;32m~/anaconda3/lib/python3.6/site-packages/urllib3/response.py\u001b[0m in \u001b[0;36mstream\u001b[0;34m(self, amt, decode_content)\u001b[0m\n\u001b[1;32m    488\u001b[0m         \"\"\"\n\u001b[1;32m    489\u001b[0m         \u001b[0;32mif\u001b[0m \u001b[0mself\u001b[0m\u001b[0;34m.\u001b[0m\u001b[0mchunked\u001b[0m \u001b[0;32mand\u001b[0m \u001b[0mself\u001b[0m\u001b[0;34m.\u001b[0m\u001b[0msupports_chunked_reads\u001b[0m\u001b[0;34m(\u001b[0m\u001b[0;34m)\u001b[0m\u001b[0;34m:\u001b[0m\u001b[0;34m\u001b[0m\u001b[0m\n\u001b[0;32m--> 490\u001b[0;31m             \u001b[0;32mfor\u001b[0m \u001b[0mline\u001b[0m \u001b[0;32min\u001b[0m \u001b[0mself\u001b[0m\u001b[0;34m.\u001b[0m\u001b[0mread_chunked\u001b[0m\u001b[0;34m(\u001b[0m\u001b[0mamt\u001b[0m\u001b[0;34m,\u001b[0m \u001b[0mdecode_content\u001b[0m\u001b[0;34m=\u001b[0m\u001b[0mdecode_content\u001b[0m\u001b[0;34m)\u001b[0m\u001b[0;34m:\u001b[0m\u001b[0;34m\u001b[0m\u001b[0m\n\u001b[0m\u001b[1;32m    491\u001b[0m                 \u001b[0;32myield\u001b[0m \u001b[0mline\u001b[0m\u001b[0;34m\u001b[0m\u001b[0m\n\u001b[1;32m    492\u001b[0m         \u001b[0;32melse\u001b[0m\u001b[0;34m:\u001b[0m\u001b[0;34m\u001b[0m\u001b[0m\n",
      "\u001b[0;32m~/anaconda3/lib/python3.6/site-packages/urllib3/response.py\u001b[0m in \u001b[0;36mread_chunked\u001b[0;34m(self, amt, decode_content)\u001b[0m\n\u001b[1;32m    667\u001b[0m                 \u001b[0;32mif\u001b[0m \u001b[0mself\u001b[0m\u001b[0;34m.\u001b[0m\u001b[0mchunk_left\u001b[0m \u001b[0;34m==\u001b[0m \u001b[0;36m0\u001b[0m\u001b[0;34m:\u001b[0m\u001b[0;34m\u001b[0m\u001b[0m\n\u001b[1;32m    668\u001b[0m                     \u001b[0;32mbreak\u001b[0m\u001b[0;34m\u001b[0m\u001b[0m\n\u001b[0;32m--> 669\u001b[0;31m                 \u001b[0mchunk\u001b[0m \u001b[0;34m=\u001b[0m \u001b[0mself\u001b[0m\u001b[0;34m.\u001b[0m\u001b[0m_handle_chunk\u001b[0m\u001b[0;34m(\u001b[0m\u001b[0mamt\u001b[0m\u001b[0;34m)\u001b[0m\u001b[0;34m\u001b[0m\u001b[0m\n\u001b[0m\u001b[1;32m    670\u001b[0m                 decoded = self._decode(chunk, decode_content=decode_content,\n\u001b[1;32m    671\u001b[0m                                        flush_decoder=False)\n",
      "\u001b[0;32m~/anaconda3/lib/python3.6/site-packages/urllib3/response.py\u001b[0m in \u001b[0;36m_handle_chunk\u001b[0;34m(self, amt)\u001b[0m\n\u001b[1;32m    613\u001b[0m             \u001b[0mself\u001b[0m\u001b[0;34m.\u001b[0m\u001b[0mchunk_left\u001b[0m \u001b[0;34m=\u001b[0m \u001b[0;32mNone\u001b[0m\u001b[0;34m\u001b[0m\u001b[0m\n\u001b[1;32m    614\u001b[0m         \u001b[0;32melif\u001b[0m \u001b[0mamt\u001b[0m \u001b[0;34m<\u001b[0m \u001b[0mself\u001b[0m\u001b[0;34m.\u001b[0m\u001b[0mchunk_left\u001b[0m\u001b[0;34m:\u001b[0m\u001b[0;34m\u001b[0m\u001b[0m\n\u001b[0;32m--> 615\u001b[0;31m             \u001b[0mvalue\u001b[0m \u001b[0;34m=\u001b[0m \u001b[0mself\u001b[0m\u001b[0;34m.\u001b[0m\u001b[0m_fp\u001b[0m\u001b[0;34m.\u001b[0m\u001b[0m_safe_read\u001b[0m\u001b[0;34m(\u001b[0m\u001b[0mamt\u001b[0m\u001b[0;34m)\u001b[0m\u001b[0;34m\u001b[0m\u001b[0m\n\u001b[0m\u001b[1;32m    616\u001b[0m             \u001b[0mself\u001b[0m\u001b[0;34m.\u001b[0m\u001b[0mchunk_left\u001b[0m \u001b[0;34m=\u001b[0m \u001b[0mself\u001b[0m\u001b[0;34m.\u001b[0m\u001b[0mchunk_left\u001b[0m \u001b[0;34m-\u001b[0m \u001b[0mamt\u001b[0m\u001b[0;34m\u001b[0m\u001b[0m\n\u001b[1;32m    617\u001b[0m             \u001b[0mreturned_chunk\u001b[0m \u001b[0;34m=\u001b[0m \u001b[0mvalue\u001b[0m\u001b[0;34m\u001b[0m\u001b[0m\n",
      "\u001b[0;32m~/anaconda3/lib/python3.6/http/client.py\u001b[0m in \u001b[0;36m_safe_read\u001b[0;34m(self, amt)\u001b[0m\n\u001b[1;32m    610\u001b[0m         \u001b[0ms\u001b[0m \u001b[0;34m=\u001b[0m \u001b[0;34m[\u001b[0m\u001b[0;34m]\u001b[0m\u001b[0;34m\u001b[0m\u001b[0m\n\u001b[1;32m    611\u001b[0m         \u001b[0;32mwhile\u001b[0m \u001b[0mamt\u001b[0m \u001b[0;34m>\u001b[0m \u001b[0;36m0\u001b[0m\u001b[0;34m:\u001b[0m\u001b[0;34m\u001b[0m\u001b[0m\n\u001b[0;32m--> 612\u001b[0;31m             \u001b[0mchunk\u001b[0m \u001b[0;34m=\u001b[0m \u001b[0mself\u001b[0m\u001b[0;34m.\u001b[0m\u001b[0mfp\u001b[0m\u001b[0;34m.\u001b[0m\u001b[0mread\u001b[0m\u001b[0;34m(\u001b[0m\u001b[0mmin\u001b[0m\u001b[0;34m(\u001b[0m\u001b[0mamt\u001b[0m\u001b[0;34m,\u001b[0m \u001b[0mMAXAMOUNT\u001b[0m\u001b[0;34m)\u001b[0m\u001b[0;34m)\u001b[0m\u001b[0;34m\u001b[0m\u001b[0m\n\u001b[0m\u001b[1;32m    613\u001b[0m             \u001b[0;32mif\u001b[0m \u001b[0;32mnot\u001b[0m \u001b[0mchunk\u001b[0m\u001b[0;34m:\u001b[0m\u001b[0;34m\u001b[0m\u001b[0m\n\u001b[1;32m    614\u001b[0m                 \u001b[0;32mraise\u001b[0m \u001b[0mIncompleteRead\u001b[0m\u001b[0;34m(\u001b[0m\u001b[0;34mb''\u001b[0m\u001b[0;34m.\u001b[0m\u001b[0mjoin\u001b[0m\u001b[0;34m(\u001b[0m\u001b[0ms\u001b[0m\u001b[0;34m)\u001b[0m\u001b[0;34m,\u001b[0m \u001b[0mamt\u001b[0m\u001b[0;34m)\u001b[0m\u001b[0;34m\u001b[0m\u001b[0m\n",
      "\u001b[0;32m~/anaconda3/lib/python3.6/socket.py\u001b[0m in \u001b[0;36mreadinto\u001b[0;34m(self, b)\u001b[0m\n\u001b[1;32m    584\u001b[0m         \u001b[0;32mwhile\u001b[0m \u001b[0;32mTrue\u001b[0m\u001b[0;34m:\u001b[0m\u001b[0;34m\u001b[0m\u001b[0m\n\u001b[1;32m    585\u001b[0m             \u001b[0;32mtry\u001b[0m\u001b[0;34m:\u001b[0m\u001b[0;34m\u001b[0m\u001b[0m\n\u001b[0;32m--> 586\u001b[0;31m                 \u001b[0;32mreturn\u001b[0m \u001b[0mself\u001b[0m\u001b[0;34m.\u001b[0m\u001b[0m_sock\u001b[0m\u001b[0;34m.\u001b[0m\u001b[0mrecv_into\u001b[0m\u001b[0;34m(\u001b[0m\u001b[0mb\u001b[0m\u001b[0;34m)\u001b[0m\u001b[0;34m\u001b[0m\u001b[0m\n\u001b[0m\u001b[1;32m    587\u001b[0m             \u001b[0;32mexcept\u001b[0m \u001b[0mtimeout\u001b[0m\u001b[0;34m:\u001b[0m\u001b[0;34m\u001b[0m\u001b[0m\n\u001b[1;32m    588\u001b[0m                 \u001b[0mself\u001b[0m\u001b[0;34m.\u001b[0m\u001b[0m_timeout_occurred\u001b[0m \u001b[0;34m=\u001b[0m \u001b[0;32mTrue\u001b[0m\u001b[0;34m\u001b[0m\u001b[0m\n",
      "\u001b[0;32m~/anaconda3/lib/python3.6/site-packages/urllib3/contrib/pyopenssl.py\u001b[0m in \u001b[0;36mrecv_into\u001b[0;34m(self, *args, **kwargs)\u001b[0m\n\u001b[1;32m    292\u001b[0m     \u001b[0;32mdef\u001b[0m \u001b[0mrecv_into\u001b[0m\u001b[0;34m(\u001b[0m\u001b[0mself\u001b[0m\u001b[0;34m,\u001b[0m \u001b[0;34m*\u001b[0m\u001b[0margs\u001b[0m\u001b[0;34m,\u001b[0m \u001b[0;34m**\u001b[0m\u001b[0mkwargs\u001b[0m\u001b[0;34m)\u001b[0m\u001b[0;34m:\u001b[0m\u001b[0;34m\u001b[0m\u001b[0m\n\u001b[1;32m    293\u001b[0m         \u001b[0;32mtry\u001b[0m\u001b[0;34m:\u001b[0m\u001b[0;34m\u001b[0m\u001b[0m\n\u001b[0;32m--> 294\u001b[0;31m             \u001b[0;32mreturn\u001b[0m \u001b[0mself\u001b[0m\u001b[0;34m.\u001b[0m\u001b[0mconnection\u001b[0m\u001b[0;34m.\u001b[0m\u001b[0mrecv_into\u001b[0m\u001b[0;34m(\u001b[0m\u001b[0;34m*\u001b[0m\u001b[0margs\u001b[0m\u001b[0;34m,\u001b[0m \u001b[0;34m**\u001b[0m\u001b[0mkwargs\u001b[0m\u001b[0;34m)\u001b[0m\u001b[0;34m\u001b[0m\u001b[0m\n\u001b[0m\u001b[1;32m    295\u001b[0m         \u001b[0;32mexcept\u001b[0m \u001b[0mOpenSSL\u001b[0m\u001b[0;34m.\u001b[0m\u001b[0mSSL\u001b[0m\u001b[0;34m.\u001b[0m\u001b[0mSysCallError\u001b[0m \u001b[0;32mas\u001b[0m \u001b[0me\u001b[0m\u001b[0;34m:\u001b[0m\u001b[0;34m\u001b[0m\u001b[0m\n\u001b[1;32m    296\u001b[0m             \u001b[0;32mif\u001b[0m \u001b[0mself\u001b[0m\u001b[0;34m.\u001b[0m\u001b[0msuppress_ragged_eofs\u001b[0m \u001b[0;32mand\u001b[0m \u001b[0me\u001b[0m\u001b[0;34m.\u001b[0m\u001b[0margs\u001b[0m \u001b[0;34m==\u001b[0m \u001b[0;34m(\u001b[0m\u001b[0;34m-\u001b[0m\u001b[0;36m1\u001b[0m\u001b[0;34m,\u001b[0m \u001b[0;34m'Unexpected EOF'\u001b[0m\u001b[0;34m)\u001b[0m\u001b[0;34m:\u001b[0m\u001b[0;34m\u001b[0m\u001b[0m\n",
      "\u001b[0;32m~/anaconda3/lib/python3.6/site-packages/OpenSSL/SSL.py\u001b[0m in \u001b[0;36mrecv_into\u001b[0;34m(self, buffer, nbytes, flags)\u001b[0m\n\u001b[1;32m   1712\u001b[0m             \u001b[0mresult\u001b[0m \u001b[0;34m=\u001b[0m \u001b[0m_lib\u001b[0m\u001b[0;34m.\u001b[0m\u001b[0mSSL_peek\u001b[0m\u001b[0;34m(\u001b[0m\u001b[0mself\u001b[0m\u001b[0;34m.\u001b[0m\u001b[0m_ssl\u001b[0m\u001b[0;34m,\u001b[0m \u001b[0mbuf\u001b[0m\u001b[0;34m,\u001b[0m \u001b[0mnbytes\u001b[0m\u001b[0;34m)\u001b[0m\u001b[0;34m\u001b[0m\u001b[0m\n\u001b[1;32m   1713\u001b[0m         \u001b[0;32melse\u001b[0m\u001b[0;34m:\u001b[0m\u001b[0;34m\u001b[0m\u001b[0m\n\u001b[0;32m-> 1714\u001b[0;31m             \u001b[0mresult\u001b[0m \u001b[0;34m=\u001b[0m \u001b[0m_lib\u001b[0m\u001b[0;34m.\u001b[0m\u001b[0mSSL_read\u001b[0m\u001b[0;34m(\u001b[0m\u001b[0mself\u001b[0m\u001b[0;34m.\u001b[0m\u001b[0m_ssl\u001b[0m\u001b[0;34m,\u001b[0m \u001b[0mbuf\u001b[0m\u001b[0;34m,\u001b[0m \u001b[0mnbytes\u001b[0m\u001b[0;34m)\u001b[0m\u001b[0;34m\u001b[0m\u001b[0m\n\u001b[0m\u001b[1;32m   1715\u001b[0m         \u001b[0mself\u001b[0m\u001b[0;34m.\u001b[0m\u001b[0m_raise_ssl_error\u001b[0m\u001b[0;34m(\u001b[0m\u001b[0mself\u001b[0m\u001b[0;34m.\u001b[0m\u001b[0m_ssl\u001b[0m\u001b[0;34m,\u001b[0m \u001b[0mresult\u001b[0m\u001b[0;34m)\u001b[0m\u001b[0;34m\u001b[0m\u001b[0m\n\u001b[1;32m   1716\u001b[0m \u001b[0;34m\u001b[0m\u001b[0m\n",
      "\u001b[0;31mKeyboardInterrupt\u001b[0m: "
     ]
    }
   ],
   "source": [
    "def testando_NA(url):\n",
    "    \n",
    "    for i in range(21,25):\n",
    "        url = ('https://www.tastemade.com.br/receitas/receitas-classicas?page=' + str(i))\n",
    "        req = requests.get(url)\n",
    "        soup = BeautifulSoup(req.text, \"lxml\")\n",
    "        result = soup.find('div', class_=\"MediaCard__Card-zlkxh-0 cFSrYV\")\n",
    "        try:\n",
    "            ericson = (result.text)# if result else None)\n",
    "            print(url)\n",
    "        except AttributeError:\n",
    "            print('break')\n",
    "            break\n",
    "testando_NA('https://www.tastemade.com.br/receitas/receitas-classicas?page=')"
   ]
  },
  {
   "cell_type": "markdown",
   "metadata": {
    "ExecuteTime": {
     "end_time": "2019-07-21T16:45:15.767006Z",
     "start_time": "2019-07-21T16:45:15.710514Z"
    }
   },
   "source": [
    "# Tastemade"
   ]
  },
  {
   "cell_type": "markdown",
   "metadata": {
    "ExecuteTime": {
     "end_time": "2019-07-21T16:46:43.976704Z",
     "start_time": "2019-07-21T16:46:43.968235Z"
    }
   },
   "source": [
    "## Imports"
   ]
  },
  {
   "cell_type": "code",
   "execution_count": null,
   "metadata": {
    "ExecuteTime": {
     "start_time": "2019-07-22T14:19:03.197Z"
    }
   },
   "outputs": [],
   "source": [
    "from bs4 import BeautifulSoup\n",
    "import requests "
   ]
  },
  {
   "cell_type": "code",
   "execution_count": null,
   "metadata": {
    "ExecuteTime": {
     "start_time": "2019-07-22T14:19:03.201Z"
    },
    "scrolled": false
   },
   "outputs": [],
   "source": [
    "def request_receipt(url):\n",
    "\n",
    "    req = requests.get(url)\n",
    "    soup = BeautifulSoup(req.text, \"lxml\")\n",
    "    \n",
    "    counter=1\n",
    "\n",
    "    for div in soup.findAll('div', {'class': 'MediaCard__Card-zlkxh-0 cFSrYV'}):\n",
    "        \n",
    "        a = div.findAll('a')[1]\n",
    "        receipt_title = a.text.strip()\n",
    "        irl =  a.attrs['href']\n",
    "        url = 'https://www.tastemade.com.br' + irl\n",
    "        \n",
    "        print (str(counter), receipt_title, '=>', url)\n",
    "        \n",
    "        req = requests.get(url)\n",
    "        soup = BeautifulSoup(req.text, \"lxml\")\n",
    "        class_html = 'VideoRecipe__ColumnList-sc-4pl27p-4 ejnRvL'\n",
    "\n",
    "        for ul in soup.findAll('ul', {'class': class_html}):\n",
    "            for li in ul.findAll(\"li\"): \n",
    "                print(li.text)\n",
    "\n",
    "        counter+=1"
   ]
  },
  {
   "cell_type": "code",
   "execution_count": null,
   "metadata": {
    "ExecuteTime": {
     "start_time": "2019-07-22T14:19:03.204Z"
    }
   },
   "outputs": [],
   "source": [
    "def testando_NA(url):\n",
    "    for i in range(21,25):\n",
    "        url = ('https://www.tastemade.com.br/receitas/receitas-classicas?page=' + str(i))\n",
    "        try:\n",
    "            print(url)\n",
    "            request_receipt(url)\n",
    "        except AttributeError:\n",
    "            print('break')\n",
    "            break"
   ]
  },
  {
   "cell_type": "code",
   "execution_count": null,
   "metadata": {
    "ExecuteTime": {
     "start_time": "2019-07-22T14:19:03.209Z"
    }
   },
   "outputs": [],
   "source": [
    "testando_NA('https://www.tastemade.com.br/receitas/receitas-classicas?page=')"
   ]
  },
  {
   "cell_type": "code",
   "execution_count": null,
   "metadata": {
    "ExecuteTime": {
     "start_time": "2019-07-22T14:19:03.214Z"
    }
   },
   "outputs": [],
   "source": [
    "def testando_NA(url):\n",
    "    for i in range(21,25):\n",
    "        url = ('https://www.tastemade.com.br/receitas/receitas-classicas?page=' + str(i))\n",
    "        req = requests.get(url)\n",
    "        soup = BeautifulSoup(req.text, \"lxml\")\n",
    "#         result = soup.find('div', class_=\"MediaCard__Card-zlkxh-0 cFSrYV\")\n",
    "        try:\n",
    "#             ericson = (result.text)# if result else None\n",
    "            soup.find('div', class_=\"MediaCard__Card-zlkxh-0 cFSrYV\").text\n",
    "            print(url)\n",
    "            request_receipt(url)\n",
    "        except AttributeError:\n",
    "            print('break')\n",
    "            break\n",
    "testando_NA('https://www.tastemade.com.br/receitas/receitas-classicas?page=')"
   ]
  },
  {
   "cell_type": "code",
   "execution_count": null,
   "metadata": {
    "ExecuteTime": {
     "start_time": "2019-07-22T14:19:03.217Z"
    },
    "scrolled": false
   },
   "outputs": [],
   "source": [
    "from bs4 import BeautifulSoup\n",
    "import requests \n",
    "\n",
    "def request_receipt(soup,counter):\n",
    "    for div in soup.findAll('div', {'class': 'MediaCard__Card-zlkxh-0 cFSrYV'}):\n",
    "        \n",
    "        a = div.findAll('a')[1]\n",
    "        receipt_title = a.text.strip()\n",
    "        irl =  a.attrs['href']\n",
    "        url = 'https://www.tastemade.com.br' + irl\n",
    "        \n",
    "        print (str(counter), receipt_title, '=>', url)\n",
    "        \n",
    "        req = requests.get(url)\n",
    "        soup = BeautifulSoup(req.text, \"lxml\")\n",
    "        class_html = 'VideoRecipe__ColumnList-sc-4pl27p-4 ejnRvL'\n",
    "\n",
    "#         for ul in soup.findAll('ul', {'class': class_html}):\n",
    "#             for li in ul.findAll(\"li\"): \n",
    "#                 print(li.text)\n",
    "                \n",
    "        counter+=1\n",
    "        \n",
    "def testando_NA(url):\n",
    "    \n",
    "    counter=10\n",
    "    print('começøu')\n",
    "    \n",
    "    for i in range(1,25):\n",
    "        url = ('https://www.tastemade.com.br/receitas/receitas-classicas?page=' + str(i))\n",
    "        req = requests.get(url)\n",
    "        soup = BeautifulSoup(req.text, \"lxml\")\n",
    "        \n",
    "        try:\n",
    "            soup.find('div', {'class': 'MediaCard__Card-zlkxh-0 cFSrYV'}).text\n",
    "            print(url)\n",
    "            request_receipt(soup,counter)\n",
    "            \n",
    "        except AttributeError:\n",
    "            print('break')\n",
    "            break\n",
    "            \n",
    "            \n",
    "testando_NA('https://www.tastemade.com.br/receitas/receitas-classicas?page=')"
   ]
  },
  {
   "cell_type": "code",
   "execution_count": null,
   "metadata": {
    "ExecuteTime": {
     "start_time": "2019-07-22T14:19:03.221Z"
    },
    "scrolled": false
   },
   "outputs": [],
   "source": [
    "from bs4 import BeautifulSoup\n",
    "import requests \n",
    "\n",
    "\n",
    "def request_receipt(soup,counter):\n",
    "    for div in soup.findAll('div', {'class': 'MediaCard__Card-zlkxh-0 cFSrYV'}):\n",
    "        a = div.findAll('a')[1]\n",
    "        receipt_title = a.text.strip()\n",
    "        url = 'https://www.tastemade.com.br' + a.attrs['href']\n",
    "        print (str(counter), receipt_title, '=>', url)\n",
    "        req = requests.get(url)\n",
    "        soup = BeautifulSoup(req.text, \"lxml\")\n",
    "        class_html = 'VideoRecipe__ColumnList-sc-4pl27p-4 ejnRvL'\n",
    "\n",
    "        for ul in soup.findAll('ul', {'class': class_html}):\n",
    "            for li in ul.findAll(\"li\"): \n",
    "                print(li.text)\n",
    "                \n",
    "def testando_NA(url):\n",
    "    \n",
    "    counter=1\n",
    "    print('cømeçøu')\n",
    "    \n",
    "    for i in range(19,25):\n",
    "        url = ('https://www.tastemade.com.br/receitas/receitas-classicas?page=' + str(i))\n",
    "        req = requests.get(url)\n",
    "        soup = BeautifulSoup(req.text, \"lxml\")\n",
    "        class_html = 'MediaCard__Card-zlkxh-0 cFSrYV'\n",
    "        request_receipt(soup,counter)\n",
    "        \n",
    "        try:\n",
    "            soup.find('div', {'class': class_html}).text\n",
    "            print(url)\n",
    "            request_receipt(soup,counter)\n",
    "            counter+=1\n",
    "            \n",
    "        except AttributeError:\n",
    "            print('break')\n",
    "            break\n",
    "            \n",
    "            \n",
    "testando_NA('https://www.tastemade.com.br/receitas/receitas-classicas?page=')"
   ]
  },
  {
   "cell_type": "code",
   "execution_count": null,
   "metadata": {
    "ExecuteTime": {
     "start_time": "2019-07-22T14:19:03.226Z"
    },
    "scrolled": false
   },
   "outputs": [],
   "source": [
    "for i in range(19,25):\n",
    "    \n",
    "    url = ('https://www.tastemade.com.br/receitas/receitas-classicas?page=' + str(i))\n",
    "    req = requests.get(url)\n",
    "    soup = BeautifulSoup(req.text, \"lxml\")\n",
    "    \n",
    "    for div in soup.findAll('div', {'class': 'MediaCard__Card-zlkxh-0 cFSrYV'}):\n",
    "        class_html = 'MediaCard__Card-zlkxh-0 cFSrYV'        \n",
    "        a = div.findAll('a')[1]\n",
    "        receipt_title = a.text.strip()\n",
    "\n",
    "        url = 'https://www.tastemade.com.br' + a.attrs['href']\n",
    "        req = requests.get(url)\n",
    "        soup = BeautifulSoup(req.text, \"lxml\")\n",
    "        class_html = 'VideoRecipe__ColumnList-sc-4pl27p-4 ejnRvL'\n",
    "        try:\n",
    "            teste = soup.find('ul', {'class': class_html}).text\n",
    "            print('working fine:',receipt_title, url)\n",
    "            \n",
    "#             for ul in soup.findAll('ul', {'class': class_html}):\n",
    "#                 for li in ul.findAll(\"li\"): \n",
    "#                     print(li.text)\n",
    "\n",
    "        except AttributeError:\n",
    "            print('not working:',receipt_title, url)\n",
    "            pass"
   ]
  },
  {
   "cell_type": "code",
   "execution_count": null,
   "metadata": {
    "ExecuteTime": {
     "start_time": "2019-07-22T14:19:03.230Z"
    },
    "scrolled": false
   },
   "outputs": [],
   "source": [
    "from bs4 import BeautifulSoup\n",
    "import requests\n",
    "import pandas as pd\n",
    "\n",
    "def request_receipt(soup):\n",
    "    for div in soup.findAll('div', {'class': 'MediaCard__Card-zlkxh-0 cFSrYV'}):\n",
    "        \n",
    "        a = div.findAll('a')[1]\n",
    "        receipt_title = a.text.strip()\n",
    "        url = 'https://www.tastemade.com.br' + a.attrs['href']\n",
    "                \n",
    "        req = requests.get(url)\n",
    "        soup = BeautifulSoup(req.text, \"lxml\")\n",
    "        class_html = 'VideoRecipe__ColumnList-sc-4pl27p-4 ejnRvL'\n",
    "\n",
    "        try:\n",
    "            working = soup.find('ul', {'class': class_html}).text\n",
    "\n",
    "            print('Tem receita:',receipt_title, url)\n",
    "            for ul in soup.findAll('ul', {'class': class_html}):\n",
    "                for li in ul.findAll(\"li\"): \n",
    "                    print(li.text)\n",
    "\n",
    "        except AttributeError:\n",
    "            print('Sem receita:', receipt_title, url)\n",
    "            pass\n",
    "        \n",
    "def request_receipt2(url):\n",
    "    \n",
    "    print('cømeçøu \\n')\n",
    "    \n",
    "    for i in range(1,25):\n",
    "        url = ('https://www.tastemade.com.br/receitas/receitas-classicas?page=' + str(i))\n",
    "        req = requests.get(url)\n",
    "        soup = BeautifulSoup(req.text, \"lxml\")\n",
    "        class_html = 'MediaCard__Card-zlkxh-0 cFSrYV'\n",
    "        \n",
    "        try:\n",
    "            working = soup.find('div', {'class': class_html}).text\n",
    "            print('Página',url)\n",
    "            request_receipt(soup)\n",
    "            \n",
    "        except AttributeError:\n",
    "            print('break')\n",
    "            break\n",
    "                      \n",
    "request_receipt2('https://www.tastemade.com.br/receitas/receitas-classicas?page=')"
   ]
  },
  {
   "cell_type": "code",
   "execution_count": null,
   "metadata": {},
   "outputs": [],
   "source": []
  },
  {
   "cell_type": "code",
   "execution_count": null,
   "metadata": {},
   "outputs": [],
   "source": []
  },
  {
   "cell_type": "code",
   "execution_count": null,
   "metadata": {},
   "outputs": [],
   "source": []
  },
  {
   "cell_type": "code",
   "execution_count": null,
   "metadata": {},
   "outputs": [],
   "source": []
  },
  {
   "cell_type": "code",
   "execution_count": null,
   "metadata": {},
   "outputs": [],
   "source": []
  },
  {
   "cell_type": "code",
   "execution_count": null,
   "metadata": {},
   "outputs": [],
   "source": []
  },
  {
   "cell_type": "code",
   "execution_count": null,
   "metadata": {},
   "outputs": [],
   "source": []
  },
  {
   "cell_type": "code",
   "execution_count": 1,
   "metadata": {
    "ExecuteTime": {
     "end_time": "2019-07-22T17:53:26.340857Z",
     "start_time": "2019-07-22T17:29:25.234663Z"
    },
    "scrolled": false
   },
   "outputs": [
    {
     "name": "stdout",
     "output_type": "stream",
     "text": [
      "cømeçøu \n",
      "\n",
      "Página https://www.tastemade.com.br/receitas/receitas-classicas?page=1\n",
      "Tem receita: https://www.tastemade.com.br/videos/pao-recheado-com-chocolate-dona-benta\n",
      "Tem receita: https://www.tastemade.com.br/videos/berinjela-com-misso\n",
      "Tem receita: https://www.tastemade.com.br/videos/bem-casado-no-pote-azull\n",
      "Tem receita: https://www.tastemade.com.br/videos/queijadinha-cremosa\n",
      "Tem receita: https://www.tastemade.com.br/videos/coxinha-de-pernil\n",
      "Sem receita: Como Fazer Molho Pesto https://www.tastemade.com.br/videos/minidoc-barilla-pesto\n",
      "Tem receita: https://www.tastemade.com.br/videos/peru-ao-molho-citrico\n",
      "Tem receita: https://www.tastemade.com.br/programas/mercados-do-brasil/sanduiche-de-mortadela\n",
      "Tem receita: https://www.tastemade.com.br/programas/fazendo-o-natal-juntos/peru-ao-molho-de-ervas\n",
      "Tem receita: https://www.tastemade.com.br/videos/batata-smile\n",
      "Tem receita: https://www.tastemade.com.br/videos/pernil-coberto-com-geleia-e-presunto-parma-sadia\n",
      "Tem receita: https://www.tastemade.com.br/programas/fazendo-o-natal-juntos/peru-de-natal\n",
      "Página https://www.tastemade.com.br/receitas/receitas-classicas?page=2\n",
      "Tem receita: https://www.tastemade.com.br/videos/tender-glaciado-ao-molho-de-mostarda\n",
      "Tem receita: https://www.tastemade.com.br/programas/ciaotoscana/pizza-com-pecorino-e-pesto\n",
      "Tem receita: https://www.tastemade.com.br/videos/croque-madame-de-rabanada\n",
      "Tem receita: https://www.tastemade.com.br/videos/peru-ao-molho-barbecue\n",
      "Tem receita: https://www.tastemade.com.br/videos/tortilhas-de-babatas-com-queijo\n",
      "Tem receita: https://www.tastemade.com.br/programas/raizesdosbrasileiros/moqueca-de-forno-e-farofa-yoki\n",
      "Tem receita: https://www.tastemade.com.br/programas/ciaotoscana/gnocchigratinadocomtrufasbrancas\n",
      "Tem receita: https://www.tastemade.com.br/programas/ciaotoscana/bisteca-alla-fiorentina\n",
      "Tem receita: https://www.tastemade.com.br/programas/raizesdosbrasileiros/bacalhau-as-natas-com-batata-palha\n",
      "Tem receita: https://www.tastemade.com.br/videos/spaghetti-al-ragu-bolognese\n",
      "Tem receita: https://www.tastemade.com.br/programas/raizesdosbrasileiros/croquete-empanado-na-batata-palha\n",
      "Tem receita: https://www.tastemade.com.br/videos/goulash-com-pure-de-batatas\n",
      "Página https://www.tastemade.com.br/receitas/receitas-classicas?page=3\n",
      "Tem receita: https://www.tastemade.com.br/videos/fraisier-de-chocolate\n",
      "Tem receita: https://www.tastemade.com.br/videos/cuca-de-limao\n",
      "Tem receita: https://www.tastemade.com.br/videos/guioza-de-legumes\n",
      "Tem receita: https://www.tastemade.com.br/programas/como-um-chef/massa-choux\n",
      "Tem receita: https://www.tastemade.com.br/programas/receitas-comentadas/receitas-comentadas-fe-esfirra\n",
      "Tem receita: https://www.tastemade.com.br/programas/biblioteca-na-cozinha/biblioteca-na-cozinha-deuses-americanos\n",
      "Tem receita: https://www.tastemade.com.br/programas/receitas-comentadas/receita-comentada-fe-3-tipos-de-massa-recheada\n",
      "Tem receita: https://www.tastemade.com.br/programas/biblioteca-na-cozinha/beef-wellington-cinquenta-tons-de-cinza\n",
      "Tem receita: https://www.tastemade.com.br/programas/biblioteca-na-cozinha/biblioteca-na-cozinha-arancini\n",
      "Tem receita: https://www.tastemade.com.br/programas/biblioteca-na-cozinha/biblioteca-na-cozinha-quindim\n",
      "Tem receita: https://www.tastemade.com.br/programas/biblioteca-na-cozinha/biblioteca-na-cozinha-torta-de-maca\n",
      "Tem receita: https://www.tastemade.com.br/videos/acaraje\n",
      "Página https://www.tastemade.com.br/receitas/receitas-classicas?page=4\n",
      "Tem receita: https://www.tastemade.com.br/videos/2-tipos-de-kebab\n",
      "Tem receita: https://www.tastemade.com.br/videos/beef-wellington\n",
      "Tem receita: https://www.tastemade.com.br/programas/Folclore-Brasileiro/folclore-brasileiro-bolo-de-rolo-de-mangada\n",
      "Tem receita: https://www.tastemade.com.br/videos/coq-au-vin\n",
      "Tem receita: https://www.tastemade.com.br/videos/3-sabores-de-esfirra\n",
      "Tem receita: https://www.tastemade.com.br/videos/brigadeiro-e-picole-torta-holandesa\n",
      "Tem receita: https://www.tastemade.com.br/programas/Folclore-Brasileiro/vatapa\n",
      "Tem receita: https://www.tastemade.com.br/videos/3-sobremesas-a-base-de-ovo\n",
      "Tem receita: https://www.tastemade.com.br/programas/Folclore-Brasileiro/frango-com-quiabo-e-angu\n",
      "Tem receita: https://www.tastemade.com.br/videos/pretzel-de-parmesao-e-alecrim-recheado-com-queijo\n",
      "Tem receita: https://www.tastemade.com.br/programas/Folclore-Brasileiro/pamonha-doce\n",
      "Tem receita: https://www.tastemade.com.br/videos/bombocado-de-aveia\n",
      "Página https://www.tastemade.com.br/receitas/receitas-classicas?page=5\n",
      "Tem receita: https://www.tastemade.com.br/programas/Folclore-Brasileiro/folclore-brasileiro-pe-de-moleque\n",
      "Tem receita: https://www.tastemade.com.br/videos/paella-de-frutos-do-mar-lufthansa\n",
      "Tem receita: https://www.tastemade.com.br/videos/3-sabores-de-empadinha\n",
      "Tem receita: https://www.tastemade.com.br/programas/minicozinha-brasileira/minicarreteiro\n",
      "Tem receita: https://www.tastemade.com.br/videos/empadao-de-carne\n",
      "Tem receita: https://www.tastemade.com.br/programas/minicozinha-brasileira/minisonho\n",
      "Tem receita: https://www.tastemade.com.br/videos/1-base-3-massas-recheadas\n",
      "Tem receita: https://www.tastemade.com.br/videos/prestigio\n",
      "Tem receita: https://www.tastemade.com.br/programas/minicozinha-brasileira/minimoqueca\n",
      "Tem receita: https://www.tastemade.com.br/videos/esfirra-de-carne\n",
      "Tem receita: https://www.tastemade.com.br/videos/bolinho-de-chuva-com-calda-de-brigadeiro\n",
      "Tem receita: https://www.tastemade.com.br/videos/pudim-no-pote\n",
      "Página https://www.tastemade.com.br/receitas/receitas-classicas?page=6\n",
      "Tem receita: https://www.tastemade.com.br/programas/minicozinha-brasileira/minicozinha-brasileira-minifeijoada\n",
      "Tem receita: https://www.tastemade.com.br/videos/torta-holandesa-hersheys\n",
      "Tem receita: https://www.tastemade.com.br/videos/3-pontos-3-molhos-de-file\n",
      "Tem receita: https://www.tastemade.com.br/videos/banofee\n",
      "Tem receita: https://www.tastemade.com.br/videos/lasanha-da-mamma-pao-de-acucar\n",
      "Tem receita: https://www.tastemade.com.br/videos/pastel-de-feira\n",
      "Tem receita: https://www.tastemade.com.br/videos/bolo-de-cenoura-da-tastemade\n",
      "Tem receita: https://www.tastemade.com.br/videos/4-sabores-de-cookie\n",
      "Tem receita: https://www.tastemade.com.br/videos/bombocado\n",
      "Tem receita: https://www.tastemade.com.br/videos/mil-folhas-kopenhagen\n",
      "Tem receita: https://www.tastemade.com.br/videos/bolo-recheado-de-brigadeiro\n",
      "Tem receita: https://www.tastemade.com.br/videos/brigadeiro-de-chocolate-e-laranja\n",
      "Página https://www.tastemade.com.br/receitas/receitas-classicas?page=7\n",
      "Tem receita: https://www.tastemade.com.br/videos/cuca-com-goiabada\n",
      "Tem receita: https://www.tastemade.com.br/videos/bem-casado\n",
      "Tem receita: https://www.tastemade.com.br/videos/palha-italiana-de-doce-de-leite\n",
      "Tem receita: https://www.tastemade.com.br/videos/torta-romeu-e-julieta\n",
      "Tem receita: https://www.tastemade.com.br/videos/cuscuz-paulista\n",
      "Tem receita: https://www.tastemade.com.br/videos/torta-holandesa-na-taca\n",
      "Tem receita: https://www.tastemade.com.br/videos/pave-floresta-negra\n",
      "Tem receita: https://www.tastemade.com.br/videos/salada-caesar\n",
      "Tem receita: https://www.tastemade.com.br/videos/torta-fria-no-palito\n",
      "Tem receita: https://www.tastemade.com.br/videos/sorvete-napolitano-caseiro\n",
      "Tem receita: https://www.tastemade.com.br/videos/mousse-de-maracuja-ao-chocolate\n",
      "Tem receita: https://www.tastemade.com.br/videos/torta-fria-de-salmao\n",
      "Página https://www.tastemade.com.br/receitas/receitas-classicas?page=8\n",
      "Tem receita: https://www.tastemade.com.br/videos/paleta-mexicana-na-travessa\n",
      "Tem receita: https://www.tastemade.com.br/videos/cocada-de-forno\n",
      "Tem receita: https://www.tastemade.com.br/videos/feijao-tropeiro\n",
      "Tem receita: https://www.tastemade.com.br/videos/fraisier\n",
      "Tem receita: https://www.tastemade.com.br/videos/presunto-caramelado\n",
      "Tem receita: https://www.tastemade.com.br/videos/lentilha-da-sorte\n",
      "Tem receita: https://www.tastemade.com.br/videos/bolo-de-reis\n",
      "Tem receita: https://www.tastemade.com.br/videos/peru-assado\n",
      "Tem receita: https://www.tastemade.com.br/videos/pernil-de-porco-marinado\n",
      "Tem receita: https://www.tastemade.com.br/videos/arroz-natalino\n",
      "Tem receita: https://www.tastemade.com.br/videos/panetone-caseiro\n",
      "Tem receita: https://www.tastemade.com.br/videos/lentilha-com-cebola-caramelada-e-bacon\n",
      "Página https://www.tastemade.com.br/receitas/receitas-classicas?page=9\n"
     ]
    },
    {
     "name": "stdout",
     "output_type": "stream",
     "text": [
      "Tem receita: https://www.tastemade.com.br/videos/salpicao-de-frango-yoki\n",
      "Tem receita: https://www.tastemade.com.br/programas/especial-de-natal/rabanada-com-calda-de-laranja\n",
      "Tem receita: https://www.tastemade.com.br/videos/macarrao-a-putanesca\n",
      "Tem receita: https://www.tastemade.com.br/videos/falafel-frito\n",
      "Tem receita: https://www.tastemade.com.br/videos/entrevero\n",
      "Tem receita: https://www.tastemade.com.br/videos/lingua-com-molho-vermelho-e-ervilhas\n",
      "Tem receita: https://www.tastemade.com.br/videos/bolo-quindao\n",
      "Tem receita: https://www.tastemade.com.br/videos/tarte-tatin-de-ratatouille\n",
      "Tem receita: https://www.tastemade.com.br/videos/maria-mole\n",
      "Tem receita: https://www.tastemade.com.br/videos/charlotte\n",
      "Tem receita: https://www.tastemade.com.br/videos/alfajores-de-doce-de-leite\n",
      "Tem receita: https://www.tastemade.com.br/videos/bolo-de-brigadeiro-de-morango\n",
      "Página https://www.tastemade.com.br/receitas/receitas-classicas?page=10\n",
      "Tem receita: https://www.tastemade.com.br/videos/bolo-casadinho\n",
      "Tem receita: https://www.tastemade.com.br/videos/noodles-com-frango-e-vegetais\n",
      "Tem receita: https://www.tastemade.com.br/videos/pao-pita-com-chancliche\n",
      "Tem receita: https://www.tastemade.com.br/videos/bolo-queijadinha\n",
      "Tem receita: https://www.tastemade.com.br/videos/casquinha-de-siri-brahma\n",
      "Tem receita: https://www.tastemade.com.br/videos/goulash-com-spaetzle\n",
      "Tem receita: https://www.tastemade.com.br/videos/tartare-zuzu-angel\n",
      "Tem receita: https://www.tastemade.com.br/videos/papo-de-anjo\n",
      "Tem receita: https://www.tastemade.com.br/videos/tempura-de-legumes\n",
      "Tem receita: https://www.tastemade.com.br/videos/pastel-de-nata\n",
      "Sem receita: Charlotte au Chocolat & Marché aux Puces de St-Ouen https://www.tastemade.com.br/programas/rendez-vous-a-paris/charlotte-e-marche\n",
      "Sem receita: Montevidéu https://www.tastemade.com.br/programas/maravilloso-no-uruguay/montevideu\n",
      "Página https://www.tastemade.com.br/receitas/receitas-classicas?page=11\n",
      "Tem receita: https://www.tastemade.com.br/videos/paella\n",
      "Tem receita: https://www.tastemade.com.br/programas/comida-de-serie/tagliatelli-alla-carbonara-de-master-of-none\n",
      "Tem receita: https://www.tastemade.com.br/programas/comida-de-serie/torta-de-maca-da-regina-de-once-upon-a-time\n",
      "Tem receita: https://www.tastemade.com.br/videos/rei-alberto\n",
      "Tem receita: https://www.tastemade.com.br/videos/charlotte-royale\n",
      "Tem receita: https://www.tastemade.com.br/videos/empanadas-de-carne\n",
      "Tem receita: https://www.tastemade.com.br/videos/torta-marta-rocha\n",
      "Tem receita: https://www.tastemade.com.br/videos/bombas-de-chantilly-com-morango\n",
      "Tem receita: https://www.tastemade.com.br/videos/arroz-de-carreteiro\n",
      "Tem receita: https://www.tastemade.com.br/programas/comida-de-serie/mac-n-cheese-de-todo-mundo-odeia-o-chris\n",
      "Tem receita: https://www.tastemade.com.br/videos/moqueca-de-peixe\n",
      "Tem receita: https://www.tastemade.com.br/videos/cassata\n",
      "Página https://www.tastemade.com.br/receitas/receitas-classicas?page=12\n",
      "Sem receita: Croque Monsieur & Les Passages Couverts https://www.tastemade.com.br/programas/rendez-vous-a-paris/croque-monsieur-e-les-passages-couverts\n",
      "Tem receita: https://www.tastemade.com.br/videos/baiao-de-dois\n",
      "Tem receita: https://www.tastemade.com.br/videos/bobo-de-camarao\n",
      "Tem receita: https://www.tastemade.com.br/videos/frango-xadrez\n",
      "Sem receita: Brioche & Louvre https://www.tastemade.com.br/programas/rendez-vous-a-paris/brioche-e-louvre\n",
      "Sem receita: Quiche & Canal St. Martin https://www.tastemade.com.br/programas/rendez-vous-a-paris/quiche-e-canal-st-martin\n",
      "Tem receita: https://www.tastemade.com.br/videos/torta-dueto-de-chocolate\n",
      "Tem receita: https://www.tastemade.com.br/videos/cuecas-viradas\n",
      "Tem receita: https://www.tastemade.com.br/videos/bolinho-de-chuva\n",
      "Tem receita: https://www.tastemade.com.br/videos/torta-de-bolacha\n",
      "Tem receita: https://www.tastemade.com.br/videos/chico-balanceado\n",
      "Tem receita: https://www.tastemade.com.br/videos/palmier-ou-orelha-de-macaco\n",
      "Página https://www.tastemade.com.br/receitas/receitas-classicas?page=13\n",
      "Tem receita: https://www.tastemade.com.br/videos/bife-a-parmegiana\n",
      "Tem receita: https://www.tastemade.com.br/videos/doce-de-abobora\n",
      "Tem receita: https://www.tastemade.com.br/videos/rapadurinha-de-leite-condensado\n",
      "Tem receita: https://www.tastemade.com.br/videos/creme-de-milho-no-pao\n",
      "Tem receita: https://www.tastemade.com.br/programas/comida-de-serie/bolo-de-cenoura-de-ru-pauls-drag-race\n",
      "Tem receita: https://www.tastemade.com.br/programas/comida-de-serie/spaghetti-allamatriciana-de-jessica-jones\n",
      "Tem receita: https://www.tastemade.com.br/videos/bolonhesa-de-uma-panela-so\n",
      "Tem receita: https://www.tastemade.com.br/videos/vaca-atolada\n",
      "Sem receita: Bolo Floresta Negra https://www.tastemade.com.br/programas/chocosnap/bolo-floresta-negra\n",
      "Tem receita: https://www.tastemade.com.br/videos/eclair-de-creme-e-caramelo\n",
      "Tem receita: https://www.tastemade.com.br/videos/bife-wellington\n",
      "Tem receita: https://www.tastemade.com.br/programas/comida-de-serie/arepas-colombianas-de-queijo-de-narcos\n",
      "Página https://www.tastemade.com.br/receitas/receitas-classicas?page=14\n",
      "Tem receita: https://www.tastemade.com.br/videos/ovo-recheado\n",
      "Tem receita: https://www.tastemade.com.br/videos/manjar-de-coco-com-calda-de-ameixas\n",
      "Tem receita: https://www.tastemade.com.br/videos/charlotte-de-chocolate\n",
      "Tem receita: https://www.tastemade.com.br/videos/quindim\n",
      "Tem receita: https://www.tastemade.com.br/videos/panquecas-de-carne\n",
      "Tem receita: https://www.tastemade.com.br/videos/tiramisu\n",
      "Tem receita: https://www.tastemade.com.br/videos/biscoito-de-polvilho\n",
      "Tem receita: https://www.tastemade.com.br/videos/churros\n",
      "Tem receita: https://www.tastemade.com.br/videos/suspiros\n",
      "Tem receita: https://www.tastemade.com.br/videos/peixe-empanado-com-batatinhas\n",
      "Tem receita: https://www.tastemade.com.br/programas/comida-de-serie/churros-da-dona-florinda-de-chaves\n",
      "Tem receita: https://www.tastemade.com.br/videos/torta-holandesa\n",
      "Página https://www.tastemade.com.br/receitas/receitas-classicas?page=15\n",
      "Tem receita: https://www.tastemade.com.br/videos/alfajor-de-padaria\n",
      "Sem receita: Cupcake Red Velvet https://www.tastemade.com.br/programas/a-doce-cozinha/cupcake-red-velvet\n",
      "Tem receita: https://www.tastemade.com.br/videos/macarrao-a-parisiense\n",
      "Tem receita: https://www.tastemade.com.br/videos/file-de-frango-a-cordon-bleu\n",
      "Tem receita: https://www.tastemade.com.br/videos/frango-alfredo\n",
      "Tem receita: https://www.tastemade.com.br/videos/cocada-caseira\n",
      "Sem receita: La Barra https://www.tastemade.com.br/programas/maravilloso-no-uruguay/la-barra\n",
      "Tem receita: https://www.tastemade.com.br/videos/gratin-de-batatas\n",
      "Tem receita: https://www.tastemade.com.br/videos/estrogonofe-de-carne\n",
      "Tem receita: https://www.tastemade.com.br/videos/sufle-de-queijo\n",
      "Tem receita: https://www.tastemade.com.br/videos/nha-benta-caseira\n",
      "Tem receita: https://www.tastemade.com.br/videos/bife-a-role\n",
      "Página https://www.tastemade.com.br/receitas/receitas-classicas?page=16\n",
      "Tem receita: https://www.tastemade.com.br/videos/donuts\n",
      "Tem receita: https://www.tastemade.com.br/videos/croquete-de-carne\n",
      "Tem receita: https://www.tastemade.com.br/videos/salada-de-batata\n",
      "Tem receita: https://www.tastemade.com.br/videos/frango-teriyaki\n",
      "Tem receita: https://www.tastemade.com.br/videos/polenta-assada-com-aioli-de-alho\n",
      "Tem receita: https://www.tastemade.com.br/videos/tiramisu-no-copinho\n",
      "Tem receita: https://www.tastemade.com.br/videos/bolinho-de-risoto\n",
      "Tem receita: https://www.tastemade.com.br/videos/espaguete-ao-alho-e-oleo\n",
      "Tem receita: https://www.tastemade.com.br/videos/macarrao-a-carbonara\n",
      "Tem receita: https://www.tastemade.com.br/videos/creme-brulee-e-micro-ondas\n",
      "Tem receita: https://www.tastemade.com.br/videos/tagliatelle-a-bolonhesa\n",
      "Tem receita: https://www.tastemade.com.br/videos/tortilha-de-batata\n",
      "Página https://www.tastemade.com.br/receitas/receitas-classicas?page=17\n",
      "Tem receita: https://www.tastemade.com.br/videos/guacamole-caseira\n",
      "Sem receita: Churros com Doce de Leite https://www.tastemade.com.br/programas/prato-do-dia/churros-com-doce-de-leite\n",
      "Tem receita: https://www.tastemade.com.br/videos/yakisoba-de-carne-e-frango\n",
      "Tem receita: https://www.tastemade.com.br/videos/pizza-de-sardinha\n",
      "Tem receita: https://www.tastemade.com.br/videos/sagu\n",
      "Tem receita: https://www.tastemade.com.br/videos/carbonara\n"
     ]
    },
    {
     "name": "stdout",
     "output_type": "stream",
     "text": [
      "Tem receita: https://www.tastemade.com.br/videos/focaccia\n",
      "Tem receita: https://www.tastemade.com.br/videos/coxinha-cremosa\n",
      "Tem receita: https://www.tastemade.com.br/videos/ambrosia\n",
      "Tem receita: https://www.tastemade.com.br/videos/arroz-de-leite\n",
      "Tem receita: https://www.tastemade.com.br/videos/mosaico-de-gelatina\n",
      "Tem receita: https://www.tastemade.com.br/videos/sonho-de-creme\n",
      "Página https://www.tastemade.com.br/receitas/receitas-classicas?page=18\n",
      "Sem receita: Cheesecake Clássico com Calda de Morango https://www.tastemade.com.br/programas/o-chef-e-a-chata/cheesecake-classico-com-calda-de-morango\n",
      "Tem receita: https://www.tastemade.com.br/videos/torta-de-limao\n",
      "Tem receita: https://www.tastemade.com.br/videos/lasanha-bolonhesa\n",
      "Tem receita: https://www.tastemade.com.br/videos/torta-de-maca\n",
      "Tem receita: https://www.tastemade.com.br/videos/batata-rosti\n",
      "Tem receita: https://www.tastemade.com.br/videos/quindao\n",
      "Tem receita: https://www.tastemade.com.br/videos/fricasse-de-frango\n",
      "Tem receita: https://www.tastemade.com.br/videos/brigadeiro-da-vovo\n",
      "Tem receita: https://www.tastemade.com.br/videos/broa-de-milho\n",
      "Tem receita: https://www.tastemade.com.br/videos/polenta-cremosa\n",
      "Tem receita: https://www.tastemade.com.br/videos/guacamole\n",
      "Tem receita: https://www.tastemade.com.br/videos/chantilly-caseiro\n",
      "Página https://www.tastemade.com.br/receitas/receitas-classicas?page=19\n",
      "Tem receita: https://www.tastemade.com.br/videos/kibe-assado\n",
      "Tem receita: https://www.tastemade.com.br/videos/rabanada-de-panettone\n",
      "Tem receita: https://www.tastemade.com.br/videos/ketchup-caseiro-facil\n",
      "Tem receita: https://www.tastemade.com.br/videos/pudim-de-leite-condensado-facil\n",
      "Tem receita: https://www.tastemade.com.br/videos/bolo-de-cenoura-caseiro\n",
      "Sem receita: Crème Brûlée https://www.tastemade.com.br/programas/rendez-vous-en-provence/creme-brulee\n",
      "Sem receita: Baba au Rhum https://www.tastemade.com.br/programas/rendez-vous-en-provence/baba-au-rhum\n",
      "Sem receita: Coq au Vin https://www.tastemade.com.br/programas/rendez-vous-a-paris/rendez-vous-a-paris-coq-au-vin\n",
      "Sem receita: Crêpe Suzette https://www.tastemade.com.br/programas/rendez-vous-a-paris/rendez-vous-a-paris-crepe-suzette\n",
      "Tem receita: https://www.tastemade.com.br/videos/pudim-de-claras\n",
      "Sem receita: Pudim de Leite Condensado https://www.tastemade.com.br/programas/a-doce-cozinha/pudim-de-leite-condensado\n",
      "Sem receita: Manjar de Coco https://www.tastemade.com.br/programas/a-doce-cozinha/manjar-de-coco\n",
      "Página https://www.tastemade.com.br/receitas/receitas-classicas?page=20\n",
      "Tem receita: https://www.tastemade.com.br/programas/rendez-vous-a-paris/rendez-vous-a-paris-steak-tartare\n",
      "Sem receita: Strogonoff com Batata Palha Caseira https://www.tastemade.com.br/programas/prato-do-dia/strogonoff\n",
      "Sem receita: Moqueca de Peixe de \"Sabor da Paixão\" https://www.tastemade.com.br/programas/comida-de-cinema/moqueca-de-peixe-de-sabor-da-paixao\n",
      "Sem receita: Biscoito de Gengibre ou Gingerbread https://www.tastemade.com.br/programas/a-doce-cozinha/biscoito-de-gengibre-ou-gingerbread\n",
      "Sem receita: Rabanada https://www.tastemade.com.br/programas/a-doce-cozinha/rabanada\n",
      "Sem receita: Pão de Queijo https://www.tastemade.com.br/programas/a-doce-cozinha/pao-de-queijo\n",
      "Sem receita: Coxinha da Dadá (Z Carniceria) https://www.tastemade.com.br/videos/coxinha-da-dada-z-carniceria\n",
      "Sem receita: Mini Acarajés (Sotero) https://www.tastemade.com.br/videos/mini-acarajes-sotero\n",
      "Sem receita: Boeuf Bourguignon de \"Julie e Julia\" https://www.tastemade.com.br/programas/comida-de-cinema/boeuf-bourguignon-de-julie-e-julia\n",
      "Sem receita: Bombas de Creme de \"Simplesmente Irresistível\" https://www.tastemade.com.br/programas/comida-de-cinema/bombas-de-creme-de-simplesmente-irresistivel\n",
      "Sem receita: Brownie de \"Um Lugar Chamado Notting Hill\" https://www.tastemade.com.br/programas/comida-de-cinema/brownie-de-um-lugar-chamado-notting-hill\n",
      "Sem receita: Cassoulet de \"Os Sabores do Palácio\" https://www.tastemade.com.br/programas/comida-de-cinema/cassoulet-de-os-sabores-do-palacio\n",
      "Página https://www.tastemade.com.br/receitas/receitas-classicas?page=21\n",
      "Sem receita: Coq Au Vin de \"O Contador de Histórias\" https://www.tastemade.com.br/programas/comida-de-cinema/coq-au-vin-de-o-contador-de-historias\n",
      "Sem receita: Courtesan au Chocolat de \"O Grande Hotel Budapeste\" https://www.tastemade.com.br/programas/comida-de-cinema/courtesan-au-chocolat-de-o-grande-hotel-budapeste\n",
      "Sem receita: Coxinha de \"Estômago\" https://www.tastemade.com.br/programas/comida-de-cinema/coxinha-de-estomago\n",
      "Sem receita: Crème Brûlée de \"Amélie Poulain\" https://www.tastemade.com.br/programas/comida-de-cinema/creme-brulee-de-amelie-poulain\n",
      "Sem receita: Lasanha Bolonhesa de \"Garfield\" https://www.tastemade.com.br/programas/comida-de-cinema/lasanha-bolonhesa-de-garfield\n",
      "Sem receita: Pizza Margherita de \"Comer, Rezar, Amar\" https://www.tastemade.com.br/programas/comida-de-cinema/pizza-margherita-de-comer-rezar-amar\n",
      "Sem receita: Spaghetti ao Pesto de \"Simplesmente Martha\" https://www.tastemade.com.br/programas/comida-de-cinema/spaghetti-ao-pesto-de-simplesmente-martha\n",
      "Sem receita: Spaghetti à Puttanesca de \"Desventuras em Série\" https://www.tastemade.com.br/programas/comida-de-cinema/spaghetti-a-puttanesca-de-desventuras-em-serie\n",
      "Sem receita: Spaghetti Bolonhesa de \"Azul é a Cor Mais Quente\" https://www.tastemade.com.br/programas/comida-de-cinema/spaghetti-bolonhesa-de-azul-e-a-cor-mais-quente\n",
      "Sem receita: Spaghetti com Âlmondegas de \"A Dama e o Vagabundo\" https://www.tastemade.com.br/programas/comida-de-cinema/spaghetti-com-almondegas-de-a-dama-e-o-vagabundo\n",
      "Sem receita: Tiramisù de \"O Filho da Noiva\" https://www.tastemade.com.br/programas/comida-de-cinema/tiramisu-de-o-filho-da-noiva\n",
      "Sem receita: Torta de Limão de \"Toast\" https://www.tastemade.com.br/programas/comida-de-cinema/torta-de-limao-de-toast\n",
      "Página https://www.tastemade.com.br/receitas/receitas-classicas?page=22\n",
      "Sem receita: Cocada https://www.tastemade.com.br/programas/praias-do-mundo/cocada\n",
      "Tem receita: https://www.tastemade.com.br/programas/comida-de-cinema/apfelstrudel-de-bastardos-inglorios\n",
      "Sem receita: Petit Gateau de \"Intocáveis\" https://www.tastemade.com.br/programas/comida-de-cinema/petit-gateau\n",
      "Sem receita: Torta de Maçã de \"American Pie\" https://www.tastemade.com.br/programas/comida-de-cinema/torta-de-maca-de-american-pie\n",
      "Sem receita: Suflê de Queijo de \"Sabrina\" https://www.tastemade.com.br/programas/comida-de-cinema/sufle-de-queijo-de-sabrina\n",
      "Tem receita: https://www.tastemade.com.br/programas/rendez-vous-a-paris/tarte-tartin\n",
      "Sem receita: Pannacotta https://www.tastemade.com.br/programas/vamos-pra-cozinha/pannacotta\n",
      "Sem receita: Boeuf Bourguignon https://www.tastemade.com.br/programas/rendez-vous-a-paris/boeuf-bourguignon\n",
      "break\n"
     ]
    }
   ],
   "source": [
    "from bs4 import BeautifulSoup\n",
    "import requests\n",
    "import pandas as pd\n",
    "import xlsxwriter\n",
    "from openpyxl import load_workbook\n",
    "from openpyxl.workbook import Workbook\n",
    "import sys\n",
    "\n",
    "def create_xlsx():\n",
    "    wb = Workbook()\n",
    "    page = wb.active    \n",
    "    page.title = 'products'   \n",
    "    headers = ['Status','receita','link']\n",
    "    page.append(headers)\n",
    "    workbook_name = 'receitas.xlsx'\n",
    "    wb.save(filename = workbook_name)\n",
    "    return workbook_name\n",
    "\n",
    "def save_xlsx(workbook_name, lines):\n",
    "    wb = load_workbook(workbook_name)\n",
    "    page = wb.active\n",
    "    page.append(lines)\n",
    "    return wb.save(filename=workbook_name)\n",
    "\n",
    "def request_receipt(soup, workbook_name):\n",
    "    for div in soup.findAll('div', {'class': 'MediaCard__Card-zlkxh-0 cFSrYV'}):\n",
    "        \n",
    "        a = div.findAll('a')[1]\n",
    "        receipt_title = a.text.strip()\n",
    "        url = 'https://www.tastemade.com.br' + a.attrs['href']\n",
    "        \n",
    "        req = requests.get(url)\n",
    "        soup = BeautifulSoup(req.text, \"lxml\")\n",
    "        class_html = 'VideoRecipe__ColumnList-sc-4pl27p-4 ejnRvL'\n",
    "\n",
    "        try:\n",
    "            working = soup.find('ul', {'class': class_html}).text\n",
    "            print('Tem receita:', url)\n",
    "            for ul in soup.findAll('ul', {'class': class_html}):\n",
    "                for li in ul.findAll(\"li\"): \n",
    "                    lines = ['Tem receita:', receipt_title, li.text, url]\n",
    "                    save_xlsx(workbook_name, lines)\n",
    "\n",
    "        except AttributeError:\n",
    "            print('Sem receita:', receipt_title, url)\n",
    "            lines = ['Sem receita:',receipt_title, '', url]\n",
    "            save_xlsx(workbook_name, lines)\n",
    "            pass\n",
    "        \n",
    "def request_receipt2(url, workbook_name):\n",
    "    print('cømeçøu \\n')\n",
    "#     for i in range(20, 43):#sys.maxsize):\n",
    "    for i in range(1, sys.maxsize):\n",
    "\n",
    "        url = ('https://www.tastemade.com.br/receitas/receitas-classicas?page=' + str(i))\n",
    "        req = requests.get(url)\n",
    "        soup = BeautifulSoup(req.text, \"lxml\")\n",
    "        class_html = 'MediaCard__Card-zlkxh-0 cFSrYV'\n",
    "        \n",
    "        try:\n",
    "            working = soup.find('div', {'class': class_html}).text\n",
    "            print('Página',url)\n",
    "            request_receipt(soup, workbook_name)\n",
    "            \n",
    "        except AttributeError:\n",
    "            print('break')\n",
    "            break\n",
    "            \n",
    "page = 'https://www.tastemade.com.br/receitas/receitas-classicas?page='\n",
    "request_receipt2(page,create_xlsx())\n",
    "# executed in 24m 1s, finished 14:53:26 2019-07-22"
   ]
  },
  {
   "cell_type": "code",
   "execution_count": null,
   "metadata": {},
   "outputs": [],
   "source": []
  }
 ],
 "metadata": {
  "kernelspec": {
   "display_name": "Python 3",
   "language": "python",
   "name": "python3"
  },
  "toc": {
   "base_numbering": 1,
   "nav_menu": {},
   "number_sections": true,
   "sideBar": true,
   "skip_h1_title": false,
   "title_cell": "Table of Contents",
   "title_sidebar": "Contents",
   "toc_cell": false,
   "toc_position": {},
   "toc_section_display": true,
   "toc_window_display": false
  },
  "varInspector": {
   "cols": {
    "lenName": 16,
    "lenType": 16,
    "lenVar": 40
   },
   "kernels_config": {
    "python": {
     "delete_cmd_postfix": "",
     "delete_cmd_prefix": "del ",
     "library": "var_list.py",
     "varRefreshCmd": "print(var_dic_list())"
    },
    "r": {
     "delete_cmd_postfix": ") ",
     "delete_cmd_prefix": "rm(",
     "library": "var_list.r",
     "varRefreshCmd": "cat(var_dic_list()) "
    }
   },
   "types_to_exclude": [
    "module",
    "function",
    "builtin_function_or_method",
    "instance",
    "_Feature"
   ],
   "window_display": false
  }
 },
 "nbformat": 4,
 "nbformat_minor": 2
}
